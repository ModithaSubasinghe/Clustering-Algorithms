{
 "cells": [
  {
   "cell_type": "code",
   "execution_count": 60,
   "metadata": {
    "pycharm": {
     "is_executing": true
    }
   },
   "outputs": [],
   "source": [
    "import openml\n",
    "import pandas as pd\n",
    "import numpy as np\n",
    "from sklearn.preprocessing import LabelEncoder #For encoding categorical variables\n",
    "from sklearn.preprocessing import MinMaxScaler\n",
    "from sklearn.cluster import KMeans,AgglomerativeClustering,DBSCAN,OPTICS,AffinityPropagation,MeanShift,SpectralClustering,Birch\n",
    "from sklearn.mixture import GaussianMixture\n",
    "from sklearn.metrics import accuracy_score,f1_score,adjusted_rand_score,silhouette_score\n",
    "from joblib import Parallel,delayed\n",
    "import time\n",
    "import scipy"
   ]
  },
  {
   "cell_type": "markdown",
   "metadata": {},
   "source": [
    "# Download Datasets Using openml"
   ]
  },
  {
   "cell_type": "code",
   "execution_count": 61,
   "metadata": {},
   "outputs": [
    {
     "data": {
      "text/html": [
       "<div>\n",
       "<style scoped>\n",
       "    .dataframe tbody tr th:only-of-type {\n",
       "        vertical-align: middle;\n",
       "    }\n",
       "\n",
       "    .dataframe tbody tr th {\n",
       "        vertical-align: top;\n",
       "    }\n",
       "\n",
       "    .dataframe thead th {\n",
       "        text-align: right;\n",
       "    }\n",
       "</style>\n",
       "<table border=\"1\" class=\"dataframe\">\n",
       "  <thead>\n",
       "    <tr style=\"text-align: right;\">\n",
       "      <th></th>\n",
       "      <th>sepallength</th>\n",
       "      <th>sepalwidth</th>\n",
       "      <th>petallength</th>\n",
       "      <th>petalwidth</th>\n",
       "      <th>class</th>\n",
       "    </tr>\n",
       "  </thead>\n",
       "  <tbody>\n",
       "    <tr>\n",
       "      <th>0</th>\n",
       "      <td>5.1</td>\n",
       "      <td>3.5</td>\n",
       "      <td>1.4</td>\n",
       "      <td>0.2</td>\n",
       "      <td>Iris-setosa</td>\n",
       "    </tr>\n",
       "    <tr>\n",
       "      <th>1</th>\n",
       "      <td>4.9</td>\n",
       "      <td>3.0</td>\n",
       "      <td>1.4</td>\n",
       "      <td>0.2</td>\n",
       "      <td>Iris-setosa</td>\n",
       "    </tr>\n",
       "    <tr>\n",
       "      <th>2</th>\n",
       "      <td>4.7</td>\n",
       "      <td>3.2</td>\n",
       "      <td>1.3</td>\n",
       "      <td>0.2</td>\n",
       "      <td>Iris-setosa</td>\n",
       "    </tr>\n",
       "    <tr>\n",
       "      <th>3</th>\n",
       "      <td>4.6</td>\n",
       "      <td>3.1</td>\n",
       "      <td>1.5</td>\n",
       "      <td>0.2</td>\n",
       "      <td>Iris-setosa</td>\n",
       "    </tr>\n",
       "    <tr>\n",
       "      <th>4</th>\n",
       "      <td>5.0</td>\n",
       "      <td>3.6</td>\n",
       "      <td>1.4</td>\n",
       "      <td>0.2</td>\n",
       "      <td>Iris-setosa</td>\n",
       "    </tr>\n",
       "    <tr>\n",
       "      <th>...</th>\n",
       "      <td>...</td>\n",
       "      <td>...</td>\n",
       "      <td>...</td>\n",
       "      <td>...</td>\n",
       "      <td>...</td>\n",
       "    </tr>\n",
       "    <tr>\n",
       "      <th>145</th>\n",
       "      <td>6.7</td>\n",
       "      <td>3.0</td>\n",
       "      <td>5.2</td>\n",
       "      <td>2.3</td>\n",
       "      <td>Iris-virginica</td>\n",
       "    </tr>\n",
       "    <tr>\n",
       "      <th>146</th>\n",
       "      <td>6.3</td>\n",
       "      <td>2.5</td>\n",
       "      <td>5.0</td>\n",
       "      <td>1.9</td>\n",
       "      <td>Iris-virginica</td>\n",
       "    </tr>\n",
       "    <tr>\n",
       "      <th>147</th>\n",
       "      <td>6.5</td>\n",
       "      <td>3.0</td>\n",
       "      <td>5.2</td>\n",
       "      <td>2.0</td>\n",
       "      <td>Iris-virginica</td>\n",
       "    </tr>\n",
       "    <tr>\n",
       "      <th>148</th>\n",
       "      <td>6.2</td>\n",
       "      <td>3.4</td>\n",
       "      <td>5.4</td>\n",
       "      <td>2.3</td>\n",
       "      <td>Iris-virginica</td>\n",
       "    </tr>\n",
       "    <tr>\n",
       "      <th>149</th>\n",
       "      <td>5.9</td>\n",
       "      <td>3.0</td>\n",
       "      <td>5.1</td>\n",
       "      <td>1.8</td>\n",
       "      <td>Iris-virginica</td>\n",
       "    </tr>\n",
       "  </tbody>\n",
       "</table>\n",
       "<p>150 rows × 5 columns</p>\n",
       "</div>"
      ],
      "text/plain": [
       "     sepallength  sepalwidth  petallength  petalwidth           class\n",
       "0            5.1         3.5          1.4         0.2     Iris-setosa\n",
       "1            4.9         3.0          1.4         0.2     Iris-setosa\n",
       "2            4.7         3.2          1.3         0.2     Iris-setosa\n",
       "3            4.6         3.1          1.5         0.2     Iris-setosa\n",
       "4            5.0         3.6          1.4         0.2     Iris-setosa\n",
       "..           ...         ...          ...         ...             ...\n",
       "145          6.7         3.0          5.2         2.3  Iris-virginica\n",
       "146          6.3         2.5          5.0         1.9  Iris-virginica\n",
       "147          6.5         3.0          5.2         2.0  Iris-virginica\n",
       "148          6.2         3.4          5.4         2.3  Iris-virginica\n",
       "149          5.9         3.0          5.1         1.8  Iris-virginica\n",
       "\n",
       "[150 rows x 5 columns]"
      ]
     },
     "execution_count": 61,
     "metadata": {},
     "output_type": "execute_result"
    }
   ],
   "source": [
    "iris = openml.datasets.get_dataset(\"iris\")\n",
    "iris_df, iris_label, categorical_indicator, attribute_names = iris.get_data(\n",
    "    target=iris.default_target_attribute, dataset_format=\"dataframe\"\n",
    ")\n",
    "iris_df[\"class\"]=iris_label\n",
    "iris_x=iris_df.iloc[:,:4]\n",
    "iris_df"
   ]
  },
  {
   "cell_type": "code",
   "execution_count": 62,
   "metadata": {},
   "outputs": [
    {
     "data": {
      "text/html": [
       "<div>\n",
       "<style scoped>\n",
       "    .dataframe tbody tr th:only-of-type {\n",
       "        vertical-align: middle;\n",
       "    }\n",
       "\n",
       "    .dataframe tbody tr th {\n",
       "        vertical-align: top;\n",
       "    }\n",
       "\n",
       "    .dataframe thead th {\n",
       "        text-align: right;\n",
       "    }\n",
       "</style>\n",
       "<table border=\"1\" class=\"dataframe\">\n",
       "  <thead>\n",
       "    <tr style=\"text-align: right;\">\n",
       "      <th></th>\n",
       "      <th>Alcohol</th>\n",
       "      <th>Malic_acid</th>\n",
       "      <th>Ash</th>\n",
       "      <th>Alcalinity_of_ash</th>\n",
       "      <th>Magnesium</th>\n",
       "      <th>Total_phenols</th>\n",
       "      <th>Flavanoids</th>\n",
       "      <th>Nonflavanoid_phenols</th>\n",
       "      <th>Proanthocyanins</th>\n",
       "      <th>Color_intensity</th>\n",
       "      <th>Hue</th>\n",
       "      <th>OD280%2FOD315_of_diluted_wines</th>\n",
       "      <th>Proline</th>\n",
       "      <th>class</th>\n",
       "    </tr>\n",
       "  </thead>\n",
       "  <tbody>\n",
       "    <tr>\n",
       "      <th>0</th>\n",
       "      <td>14.23</td>\n",
       "      <td>1.71</td>\n",
       "      <td>2.43</td>\n",
       "      <td>15.6</td>\n",
       "      <td>127</td>\n",
       "      <td>2.80</td>\n",
       "      <td>3.06</td>\n",
       "      <td>0.28</td>\n",
       "      <td>2.29</td>\n",
       "      <td>5.64</td>\n",
       "      <td>1.04</td>\n",
       "      <td>3.92</td>\n",
       "      <td>1065</td>\n",
       "      <td>1</td>\n",
       "    </tr>\n",
       "    <tr>\n",
       "      <th>1</th>\n",
       "      <td>13.20</td>\n",
       "      <td>1.78</td>\n",
       "      <td>2.14</td>\n",
       "      <td>11.2</td>\n",
       "      <td>100</td>\n",
       "      <td>2.65</td>\n",
       "      <td>2.76</td>\n",
       "      <td>0.26</td>\n",
       "      <td>1.28</td>\n",
       "      <td>4.38</td>\n",
       "      <td>1.05</td>\n",
       "      <td>3.40</td>\n",
       "      <td>1050</td>\n",
       "      <td>1</td>\n",
       "    </tr>\n",
       "    <tr>\n",
       "      <th>2</th>\n",
       "      <td>13.16</td>\n",
       "      <td>2.36</td>\n",
       "      <td>2.67</td>\n",
       "      <td>18.6</td>\n",
       "      <td>101</td>\n",
       "      <td>2.80</td>\n",
       "      <td>3.24</td>\n",
       "      <td>0.30</td>\n",
       "      <td>2.81</td>\n",
       "      <td>5.68</td>\n",
       "      <td>1.03</td>\n",
       "      <td>3.17</td>\n",
       "      <td>1185</td>\n",
       "      <td>1</td>\n",
       "    </tr>\n",
       "    <tr>\n",
       "      <th>3</th>\n",
       "      <td>14.37</td>\n",
       "      <td>1.95</td>\n",
       "      <td>2.50</td>\n",
       "      <td>16.8</td>\n",
       "      <td>113</td>\n",
       "      <td>3.85</td>\n",
       "      <td>3.49</td>\n",
       "      <td>0.24</td>\n",
       "      <td>2.18</td>\n",
       "      <td>7.80</td>\n",
       "      <td>0.86</td>\n",
       "      <td>3.45</td>\n",
       "      <td>1480</td>\n",
       "      <td>1</td>\n",
       "    </tr>\n",
       "    <tr>\n",
       "      <th>4</th>\n",
       "      <td>13.24</td>\n",
       "      <td>2.59</td>\n",
       "      <td>2.87</td>\n",
       "      <td>21.0</td>\n",
       "      <td>118</td>\n",
       "      <td>2.80</td>\n",
       "      <td>2.69</td>\n",
       "      <td>0.39</td>\n",
       "      <td>1.82</td>\n",
       "      <td>4.32</td>\n",
       "      <td>1.04</td>\n",
       "      <td>2.93</td>\n",
       "      <td>735</td>\n",
       "      <td>1</td>\n",
       "    </tr>\n",
       "    <tr>\n",
       "      <th>...</th>\n",
       "      <td>...</td>\n",
       "      <td>...</td>\n",
       "      <td>...</td>\n",
       "      <td>...</td>\n",
       "      <td>...</td>\n",
       "      <td>...</td>\n",
       "      <td>...</td>\n",
       "      <td>...</td>\n",
       "      <td>...</td>\n",
       "      <td>...</td>\n",
       "      <td>...</td>\n",
       "      <td>...</td>\n",
       "      <td>...</td>\n",
       "      <td>...</td>\n",
       "    </tr>\n",
       "    <tr>\n",
       "      <th>173</th>\n",
       "      <td>13.71</td>\n",
       "      <td>5.65</td>\n",
       "      <td>2.45</td>\n",
       "      <td>20.5</td>\n",
       "      <td>95</td>\n",
       "      <td>1.68</td>\n",
       "      <td>0.61</td>\n",
       "      <td>0.52</td>\n",
       "      <td>1.06</td>\n",
       "      <td>7.70</td>\n",
       "      <td>0.64</td>\n",
       "      <td>1.74</td>\n",
       "      <td>740</td>\n",
       "      <td>3</td>\n",
       "    </tr>\n",
       "    <tr>\n",
       "      <th>174</th>\n",
       "      <td>13.40</td>\n",
       "      <td>3.91</td>\n",
       "      <td>2.48</td>\n",
       "      <td>23.0</td>\n",
       "      <td>102</td>\n",
       "      <td>1.80</td>\n",
       "      <td>0.75</td>\n",
       "      <td>0.43</td>\n",
       "      <td>1.41</td>\n",
       "      <td>7.30</td>\n",
       "      <td>0.70</td>\n",
       "      <td>1.56</td>\n",
       "      <td>750</td>\n",
       "      <td>3</td>\n",
       "    </tr>\n",
       "    <tr>\n",
       "      <th>175</th>\n",
       "      <td>13.27</td>\n",
       "      <td>4.28</td>\n",
       "      <td>2.26</td>\n",
       "      <td>20.0</td>\n",
       "      <td>120</td>\n",
       "      <td>1.59</td>\n",
       "      <td>0.69</td>\n",
       "      <td>0.43</td>\n",
       "      <td>1.35</td>\n",
       "      <td>10.20</td>\n",
       "      <td>0.59</td>\n",
       "      <td>1.56</td>\n",
       "      <td>835</td>\n",
       "      <td>3</td>\n",
       "    </tr>\n",
       "    <tr>\n",
       "      <th>176</th>\n",
       "      <td>13.17</td>\n",
       "      <td>2.59</td>\n",
       "      <td>2.37</td>\n",
       "      <td>20.0</td>\n",
       "      <td>120</td>\n",
       "      <td>1.65</td>\n",
       "      <td>0.68</td>\n",
       "      <td>0.53</td>\n",
       "      <td>1.46</td>\n",
       "      <td>9.30</td>\n",
       "      <td>0.60</td>\n",
       "      <td>1.62</td>\n",
       "      <td>840</td>\n",
       "      <td>3</td>\n",
       "    </tr>\n",
       "    <tr>\n",
       "      <th>177</th>\n",
       "      <td>14.13</td>\n",
       "      <td>4.10</td>\n",
       "      <td>2.74</td>\n",
       "      <td>24.5</td>\n",
       "      <td>96</td>\n",
       "      <td>2.05</td>\n",
       "      <td>0.76</td>\n",
       "      <td>0.56</td>\n",
       "      <td>1.35</td>\n",
       "      <td>9.20</td>\n",
       "      <td>0.61</td>\n",
       "      <td>1.60</td>\n",
       "      <td>560</td>\n",
       "      <td>3</td>\n",
       "    </tr>\n",
       "  </tbody>\n",
       "</table>\n",
       "<p>178 rows × 14 columns</p>\n",
       "</div>"
      ],
      "text/plain": [
       "     Alcohol  Malic_acid   Ash  Alcalinity_of_ash  Magnesium  Total_phenols  \\\n",
       "0      14.23        1.71  2.43               15.6        127           2.80   \n",
       "1      13.20        1.78  2.14               11.2        100           2.65   \n",
       "2      13.16        2.36  2.67               18.6        101           2.80   \n",
       "3      14.37        1.95  2.50               16.8        113           3.85   \n",
       "4      13.24        2.59  2.87               21.0        118           2.80   \n",
       "..       ...         ...   ...                ...        ...            ...   \n",
       "173    13.71        5.65  2.45               20.5         95           1.68   \n",
       "174    13.40        3.91  2.48               23.0        102           1.80   \n",
       "175    13.27        4.28  2.26               20.0        120           1.59   \n",
       "176    13.17        2.59  2.37               20.0        120           1.65   \n",
       "177    14.13        4.10  2.74               24.5         96           2.05   \n",
       "\n",
       "     Flavanoids  Nonflavanoid_phenols  Proanthocyanins  Color_intensity   Hue  \\\n",
       "0          3.06                  0.28             2.29             5.64  1.04   \n",
       "1          2.76                  0.26             1.28             4.38  1.05   \n",
       "2          3.24                  0.30             2.81             5.68  1.03   \n",
       "3          3.49                  0.24             2.18             7.80  0.86   \n",
       "4          2.69                  0.39             1.82             4.32  1.04   \n",
       "..          ...                   ...              ...              ...   ...   \n",
       "173        0.61                  0.52             1.06             7.70  0.64   \n",
       "174        0.75                  0.43             1.41             7.30  0.70   \n",
       "175        0.69                  0.43             1.35            10.20  0.59   \n",
       "176        0.68                  0.53             1.46             9.30  0.60   \n",
       "177        0.76                  0.56             1.35             9.20  0.61   \n",
       "\n",
       "     OD280%2FOD315_of_diluted_wines  Proline class  \n",
       "0                              3.92     1065     1  \n",
       "1                              3.40     1050     1  \n",
       "2                              3.17     1185     1  \n",
       "3                              3.45     1480     1  \n",
       "4                              2.93      735     1  \n",
       "..                              ...      ...   ...  \n",
       "173                            1.74      740     3  \n",
       "174                            1.56      750     3  \n",
       "175                            1.56      835     3  \n",
       "176                            1.62      840     3  \n",
       "177                            1.60      560     3  \n",
       "\n",
       "[178 rows x 14 columns]"
      ]
     },
     "execution_count": 62,
     "metadata": {},
     "output_type": "execute_result"
    }
   ],
   "source": [
    "wine = openml.datasets.get_dataset(\"wine\")\n",
    "wine_df, wine_label, categorical_indicator, attribute_names = wine.get_data(\n",
    "    target= wine.default_target_attribute, dataset_format=\"dataframe\"\n",
    ")\n",
    "wine_df[\"class\"]=wine_label\n",
    "wine_x=wine_df.iloc[:,:13]\n",
    "wine_df"
   ]
  },
  {
   "cell_type": "markdown",
   "metadata": {},
   "source": [
    "# Identify Data Types"
   ]
  },
  {
   "cell_type": "code",
   "execution_count": 63,
   "metadata": {},
   "outputs": [
    {
     "name": "stdout",
     "output_type": "stream",
     "text": [
      "<class 'pandas.core.frame.DataFrame'>\n",
      "RangeIndex: 150 entries, 0 to 149\n",
      "Data columns (total 5 columns):\n",
      " #   Column       Non-Null Count  Dtype   \n",
      "---  ------       --------------  -----   \n",
      " 0   sepallength  150 non-null    float64 \n",
      " 1   sepalwidth   150 non-null    float64 \n",
      " 2   petallength  150 non-null    float64 \n",
      " 3   petalwidth   150 non-null    float64 \n",
      " 4   class        150 non-null    category\n",
      "dtypes: category(1), float64(4)\n",
      "memory usage: 5.1 KB\n"
     ]
    }
   ],
   "source": [
    "iris_df.info()"
   ]
  },
  {
   "cell_type": "code",
   "execution_count": 64,
   "metadata": {},
   "outputs": [
    {
     "name": "stdout",
     "output_type": "stream",
     "text": [
      "<class 'pandas.core.frame.DataFrame'>\n",
      "RangeIndex: 178 entries, 0 to 177\n",
      "Data columns (total 14 columns):\n",
      " #   Column                          Non-Null Count  Dtype   \n",
      "---  ------                          --------------  -----   \n",
      " 0   Alcohol                         178 non-null    float64 \n",
      " 1   Malic_acid                      178 non-null    float64 \n",
      " 2   Ash                             178 non-null    float64 \n",
      " 3   Alcalinity_of_ash               178 non-null    float64 \n",
      " 4   Magnesium                       178 non-null    uint8   \n",
      " 5   Total_phenols                   178 non-null    float64 \n",
      " 6   Flavanoids                      178 non-null    float64 \n",
      " 7   Nonflavanoid_phenols            178 non-null    float64 \n",
      " 8   Proanthocyanins                 178 non-null    float64 \n",
      " 9   Color_intensity                 178 non-null    float64 \n",
      " 10  Hue                             178 non-null    float64 \n",
      " 11  OD280%2FOD315_of_diluted_wines  178 non-null    float64 \n",
      " 12  Proline                         178 non-null    int64   \n",
      " 13  class                           178 non-null    category\n",
      "dtypes: category(1), float64(11), int64(1), uint8(1)\n",
      "memory usage: 17.3 KB\n"
     ]
    }
   ],
   "source": [
    "wine_df.info()"
   ]
  },
  {
   "cell_type": "markdown",
   "metadata": {},
   "source": [
    "# Transform categorical variable to numeric"
   ]
  },
  {
   "cell_type": "code",
   "execution_count": 65,
   "metadata": {},
   "outputs": [],
   "source": [
    "le=LabelEncoder()\n",
    "\n",
    "iris_y=le.fit_transform(iris_label)\n",
    "wine_y=le.fit_transform(wine_label)"
   ]
  },
  {
   "cell_type": "markdown",
   "metadata": {},
   "source": [
    "# Min-max normalise"
   ]
  },
  {
   "cell_type": "code",
   "execution_count": 66,
   "metadata": {},
   "outputs": [],
   "source": [
    "scaler = MinMaxScaler()\n",
    "\n",
    "iris_x_scaled=scaler.fit_transform(iris_x)\n",
    "wine_x_scaled=scaler.fit_transform(wine_x)\n"
   ]
  },
  {
   "cell_type": "markdown",
   "metadata": {},
   "source": [
    "# DataSets"
   ]
  },
  {
   "cell_type": "code",
   "execution_count": 67,
   "metadata": {},
   "outputs": [],
   "source": [
    "Dataset = [\"Iris\",\"Wine\"]"
   ]
  },
  {
   "cell_type": "markdown",
   "metadata": {},
   "source": [
    "# Algorithms"
   ]
  },
  {
   "cell_type": "code",
   "execution_count": 83,
   "metadata": {},
   "outputs": [],
   "source": [
    "def algorithm(x, y, algo, parameters):\n",
    "    start_time = time.time()\n",
    "    if algo==\"kmeans\":\n",
    "        model=KMeans(n_clusters=parameters[0], max_iter=parameters[1], n_init=parameters[2])\n",
    "    elif algo==\"aglomerative\":\n",
    "        model= AgglomerativeClustering(n_clusters=parameters[0], linkage=parameters[1])\n",
    "    elif algo==\"dbscan\":\n",
    "        model= DBSCAN(eps = parameters[0], min_samples = parameters[1])\n",
    "    elif algo == \"optics\":\n",
    "        model=OPTICS(min_samples=parameters[0])\n",
    "    elif algo==\"ap\":\n",
    "        model= AffinityPropagation(preference=parameters[0], damping=parameters[1])\n",
    "    elif algo==\"meanshift\":\n",
    "        model=MeanShift(bandwidth =parameters[0])\n",
    "    elif algo ==\"spectral\":\n",
    "        model=SpectralClustering(n_clusters =parameters[0], affinity=parameters[1],eigen_solver=parameters[2])\n",
    "    elif algo == \"gm\":\n",
    "        model=GaussianMixture(n_components=parameters[0], covariance_type=parameters[1])\n",
    "   \n",
    "        \n",
    "    y_predict = model.fit_predict(x)\n",
    "    f1score = f1_score(y, y_predict, average = 'weighted')\n",
    "    ars = adjusted_rand_score(y, y_predict)\n",
    "    n_clusters = len(set(y_predict)) - (1 if -1 in y_predict else 0)\n",
    "    if n_clusters>=2 and n_clusters<=100:\n",
    "        sscore = silhouette_score(x, y_predict, metric=\"euclidean\")\n",
    "    else:\n",
    "        sscore = print(\"None\")\n",
    "    execution_time = time.time() - start_time\n",
    "    return y_predict, f1score, ars, sscore, execution_time"
   ]
  },
  {
   "cell_type": "markdown",
   "metadata": {},
   "source": [
    "# KMeans"
   ]
  },
  {
   "cell_type": "code",
   "execution_count": 84,
   "metadata": {},
   "outputs": [
    {
     "data": {
      "text/html": [
       "<div>\n",
       "<style scoped>\n",
       "    .dataframe tbody tr th:only-of-type {\n",
       "        vertical-align: middle;\n",
       "    }\n",
       "\n",
       "    .dataframe tbody tr th {\n",
       "        vertical-align: top;\n",
       "    }\n",
       "\n",
       "    .dataframe thead th {\n",
       "        text-align: right;\n",
       "    }\n",
       "</style>\n",
       "<table border=\"1\" class=\"dataframe\">\n",
       "  <thead>\n",
       "    <tr style=\"text-align: right;\">\n",
       "      <th></th>\n",
       "      <th>n_clusters</th>\n",
       "      <th>max_iter</th>\n",
       "      <th>n_init</th>\n",
       "    </tr>\n",
       "  </thead>\n",
       "  <tbody>\n",
       "    <tr>\n",
       "      <th>0</th>\n",
       "      <td>2</td>\n",
       "      <td>200</td>\n",
       "      <td>5</td>\n",
       "    </tr>\n",
       "    <tr>\n",
       "      <th>1</th>\n",
       "      <td>2</td>\n",
       "      <td>200</td>\n",
       "      <td>10</td>\n",
       "    </tr>\n",
       "    <tr>\n",
       "      <th>2</th>\n",
       "      <td>2</td>\n",
       "      <td>200</td>\n",
       "      <td>15</td>\n",
       "    </tr>\n",
       "    <tr>\n",
       "      <th>3</th>\n",
       "      <td>2</td>\n",
       "      <td>300</td>\n",
       "      <td>5</td>\n",
       "    </tr>\n",
       "    <tr>\n",
       "      <th>4</th>\n",
       "      <td>2</td>\n",
       "      <td>300</td>\n",
       "      <td>10</td>\n",
       "    </tr>\n",
       "    <tr>\n",
       "      <th>...</th>\n",
       "      <td>...</td>\n",
       "      <td>...</td>\n",
       "      <td>...</td>\n",
       "    </tr>\n",
       "    <tr>\n",
       "      <th>130</th>\n",
       "      <td>25</td>\n",
       "      <td>300</td>\n",
       "      <td>10</td>\n",
       "    </tr>\n",
       "    <tr>\n",
       "      <th>131</th>\n",
       "      <td>25</td>\n",
       "      <td>300</td>\n",
       "      <td>15</td>\n",
       "    </tr>\n",
       "    <tr>\n",
       "      <th>132</th>\n",
       "      <td>25</td>\n",
       "      <td>400</td>\n",
       "      <td>5</td>\n",
       "    </tr>\n",
       "    <tr>\n",
       "      <th>133</th>\n",
       "      <td>25</td>\n",
       "      <td>400</td>\n",
       "      <td>10</td>\n",
       "    </tr>\n",
       "    <tr>\n",
       "      <th>134</th>\n",
       "      <td>25</td>\n",
       "      <td>400</td>\n",
       "      <td>15</td>\n",
       "    </tr>\n",
       "  </tbody>\n",
       "</table>\n",
       "<p>135 rows × 3 columns</p>\n",
       "</div>"
      ],
      "text/plain": [
       "     n_clusters  max_iter  n_init\n",
       "0             2       200       5\n",
       "1             2       200      10\n",
       "2             2       200      15\n",
       "3             2       300       5\n",
       "4             2       300      10\n",
       "..          ...       ...     ...\n",
       "130          25       300      10\n",
       "131          25       300      15\n",
       "132          25       400       5\n",
       "133          25       400      10\n",
       "134          25       400      15\n",
       "\n",
       "[135 rows x 3 columns]"
      ]
     },
     "execution_count": 84,
     "metadata": {},
     "output_type": "execute_result"
    }
   ],
   "source": [
    "n_clusters=[2,3,4,5,6,7,8,9,10,20,21,22,23,24,25]\n",
    "max_iter=[200,300,400]\n",
    "n_init=[5,10,15]\n",
    "    \n",
    "kmean_parameters = pd.DataFrame({\"n_clusters\":[] , \n",
    "                                 \"max_iter\":[] , \n",
    "                                 \"n_init\":[]}).astype(int)\n",
    "\n",
    "for i in n_clusters:\n",
    "        for  ite in max_iter:\n",
    "            for n in n_init:\n",
    "                kmean_parameters = kmean_parameters.append({\"n_clusters\" : i, \n",
    "                                                            \"max_iter\" : ite, \n",
    "                                                            \"n_init\" : n},ignore_index=True)\n",
    "                \n",
    "                \n",
    "                \n",
    "kmean_parameters"
   ]
  },
  {
   "cell_type": "code",
   "execution_count": 70,
   "metadata": {},
   "outputs": [],
   "source": [
    "# parameters={\"n_clusters\":[2,3,4,5,6,7,8,9,10,20,21,22,23,24,25],\"max_iter\":[200,300,400],\"n_init\":[5,10,15]}\n",
    "# df=pd.DataFrame(parameters)\n",
    "# df = pd.DataFrame({k:pd.Series(v) for k,v in parameters.items()})\n",
    "# for i,ite,n in parameters:\n",
    "#         for  ite in max_iter:\n",
    "#             for n in n_init:\n",
    "#                 kmean_parameters =pd.DataFrame({\"[n_clusters,max_iter,n_init]\":[i,ite,n]},ignore_index=True)\n",
    "                \n",
    "                \n",
    "                \n",
    "# kmean_parameters"
   ]
  },
  {
   "cell_type": "code",
   "execution_count": 71,
   "metadata": {
    "pycharm": {
     "is_executing": true
    }
   },
   "outputs": [],
   "source": [
    "final_iris_kmeans = Parallel(n_jobs=-1)(delayed(algorithm)(iris_x_scaled, iris_y, \"kmeans\", kmean_parameters.iloc[i]) for i in range(0, len(kmean_parameters)))\n",
    "final_wine_kmeans = Parallel(n_jobs=-1)(delayed(algorithm)(wine_x_scaled, wine_y, \"kmeans\", kmean_parameters.iloc[i]) for i in range(0, len(kmean_parameters)))"
   ]
  },
  {
   "cell_type": "code",
   "execution_count": null,
   "metadata": {
    "pycharm": {
     "is_executing": true
    }
   },
   "outputs": [],
   "source": [
    "final_kmeans_df=pd.DataFrame({\n",
    "    \"Dataset\":[],\n",
    "    \"[n_clusters,max_iter,n_init]\":[],\n",
    "    \"f1 score\":[],\n",
    "    \"Adjusted Random Score\":[],\n",
    "    \"Silhouette Score\":[],\n",
    "    \"Execution Time\":[],\n",
    "})"
   ]
  },
  {
   "cell_type": "code",
   "execution_count": null,
   "metadata": {
    "pycharm": {
     "is_executing": true
    }
   },
   "outputs": [],
   "source": [
    "for i in range(0, len(kmean_parameters)):\n",
    "    final_kmeans_df =final_kmeans_df.append({\n",
    "        \"Dataset\":Dataset[0],\n",
    "        \"[n_clusters,max_iter,n_init]\":kmean_parameters.iloc[i].to_list(),\n",
    "        \"f1 score\":final_iris_kmeans[i][1],\n",
    "        \"Adjusted Random Score\":final_iris_kmeans[i][2],\n",
    "        \"Silhouette Score\":final_iris_kmeans[i][3],\n",
    "        \"Execution Time\":final_iris_kmeans[i][4],\n",
    "        },ignore_index=True)\n",
    "    \n",
    "for i in range(0, len(kmean_parameters)):\n",
    "    final_kmeans_df =final_kmeans_df.append({\n",
    "        \"Dataset\":Dataset[0],\n",
    "        \"[n_clusters,max_iter,n_init]\":kmean_parameters.iloc[i].to_list(),\n",
    "        \"f1 score\":final_wine_kmeans[i][1],\n",
    "        \"Adjusted Random Score\":final_wine_kmeans[i][2],\n",
    "        \"Silhouette Score\":final_wine_kmeans[i][3],\n",
    "        \"Execution Time\":final_wine_kmeans[i][4],\n",
    "        \"Dataset\":Dataset[1]\n",
    "        },ignore_index=True)\n",
    "    \n",
    "final_kmeans_df"
   ]
  },
  {
   "cell_type": "code",
   "execution_count": null,
   "metadata": {
    "pycharm": {
     "is_executing": true
    }
   },
   "outputs": [],
   "source": [
    "final_kmeans_df.to_csv('K-Means_Data.csv')"
   ]
  },
  {
   "cell_type": "markdown",
   "metadata": {},
   "source": [
    "# Agglomerative Clustering"
   ]
  },
  {
   "cell_type": "code",
   "execution_count": null,
   "metadata": {
    "pycharm": {
     "is_executing": true
    }
   },
   "outputs": [],
   "source": [
    "n_clusters =[2,3,4,5,6,7,8,9,10,11,12,13,14,15]\n",
    "linkage = [\"ward\", \"complete\", \"average\", \"single\"]\n",
    "\n",
    "agglomerative_parameters = pd.DataFrame({\n",
    "    \"n_clusters\":[] ,\n",
    "    \"linkage\":[]}).astype(int)\n",
    "  \n",
    "for i in n_clusters:\n",
    "        for  n in linkage:\n",
    "                agglomerative_parameters = agglomerative_parameters.append({\n",
    "                    \"n_clusters\" : i, \n",
    "                    \"linkage\" : n },\n",
    "                    ignore_index=True)\n",
    "                \n",
    "agglomerative_parameters"
   ]
  },
  {
   "cell_type": "code",
   "execution_count": null,
   "metadata": {
    "pycharm": {
     "is_executing": true
    }
   },
   "outputs": [],
   "source": [
    "final_iris_aggromilative = Parallel(n_jobs=-1)(delayed(algorithm)(iris_x_scaled, iris_y, \"aglomerative\", agglomerative_parameters.iloc[i]) for i in range(0, len(agglomerative_parameters)))\n",
    "final_wine_aggromilative = Parallel(n_jobs=-1)(delayed(algorithm)(wine_x_scaled, wine_y, \"aglomerative\", agglomerative_parameters.iloc[i]) for i in range(0, len(agglomerative_parameters)))"
   ]
  },
  {
   "cell_type": "code",
   "execution_count": null,
   "metadata": {
    "pycharm": {
     "is_executing": true
    }
   },
   "outputs": [],
   "source": [
    "final_aggromilative_df=pd.DataFrame({\n",
    "    \"Dataset\":[],\n",
    "    \"[n_clusters,linkage]\":[],\n",
    "    \"f1 score\":[],\n",
    "    \"Adjusted Random Score\":[],\n",
    "    \"Silhouette Score\":[],\n",
    "    \"Execution Time\":[],\n",
    "})"
   ]
  },
  {
   "cell_type": "code",
   "execution_count": null,
   "metadata": {
    "pycharm": {
     "is_executing": true
    }
   },
   "outputs": [],
   "source": [
    "for i in range(0, len(agglomerative_parameters)):\n",
    "    final_aggromilative_df =final_aggromilative_df.append({\n",
    "        \"Dataset\":Dataset[0],\n",
    "        \"[n_clusters,linkage]\":agglomerative_parameters.iloc[i].to_list(),\n",
    "        \"f1 score\":final_iris_aggromilative[i][1],\n",
    "        \"Adjusted Random Score\":final_iris_aggromilative[i][2],\n",
    "        \"Silhouette Score\":final_iris_aggromilative[i][3],\n",
    "        \"Execution Time\":final_iris_aggromilative[i][4],\n",
    "        },ignore_index=True)\n",
    "    \n",
    "for i in range(0, len(agglomerative_parameters)):\n",
    "    final_aggromilative_df =final_aggromilative_df.append({\n",
    "        \"Dataset\":Dataset[1],\n",
    "        \"[n_clusters,linkage]\":agglomerative_parameters.iloc[i].to_list(),\n",
    "        \"f1 score\":final_wine_aggromilative[i][1],\n",
    "        \"Adjusted Random Score\":final_wine_aggromilative[i][2],\n",
    "        \"Silhouette Score\":final_wine_aggromilative[i][3],\n",
    "        \"Execution Time\":final_wine_aggromilative[i][4],\n",
    "        },ignore_index=True)\n",
    "    \n",
    "final_aggromilative_df"
   ]
  },
  {
   "cell_type": "code",
   "execution_count": null,
   "metadata": {
    "pycharm": {
     "is_executing": true
    }
   },
   "outputs": [],
   "source": [
    "final_aggromilative_df.to_csv('Aggromilative_Data.csv')"
   ]
  },
  {
   "cell_type": "markdown",
   "metadata": {},
   "source": [
    "# DBScan Clustering"
   ]
  },
  {
   "cell_type": "code",
   "execution_count": null,
   "metadata": {
    "pycharm": {
     "is_executing": true
    }
   },
   "outputs": [],
   "source": [
    "eps = [0.1,0.2,0.3,0.4,0.5,0.6,0.7,0.8,0.9]\n",
    "min_samples = [2,3,4,5,6,7,8]\n",
    "\n",
    "dbscan_parameters = pd.DataFrame({\n",
    "    \"eps\":[],\n",
    "    \"min_samples\" :[]\n",
    "}).astype(int)\n",
    "\n",
    "for i in eps:\n",
    "    for n in min_samples:\n",
    "        dbscan_parameters=dbscan_parameters.append({\n",
    "            \"eps\" : i,\n",
    "            \"min_samples\": n\n",
    "        },ignore_index=True)\n",
    "        \n",
    "dbscan_parameters"
   ]
  },
  {
   "cell_type": "code",
   "execution_count": null,
   "metadata": {
    "pycharm": {
     "is_executing": true
    }
   },
   "outputs": [],
   "source": [
    "final_iris_dbscan = Parallel(n_jobs=-1)(delayed(algorithm)(iris_x_scaled, iris_y, \"dbscan\", dbscan_parameters.iloc[i]) for i in range(0, len(dbscan_parameters)))\n",
    "final_wine_dbscan = Parallel(n_jobs=-1)(delayed(algorithm)(wine_x_scaled, wine_y, \"dbscan\", dbscan_parameters.iloc[i]) for i in range(0, len(dbscan_parameters)))"
   ]
  },
  {
   "cell_type": "code",
   "execution_count": null,
   "metadata": {
    "pycharm": {
     "is_executing": true
    }
   },
   "outputs": [],
   "source": [
    "final_dbscan_df=pd.DataFrame({\n",
    "    \"Dataset\":[],\n",
    "    \"[eps,min_samples]\":[],\n",
    "    \"f1 score\":[],\n",
    "    \"Adjusted Random Score\":[],\n",
    "    \"Silhouette Score\":[],\n",
    "    \"Execution Time\":[],\n",
    "})"
   ]
  },
  {
   "cell_type": "code",
   "execution_count": null,
   "metadata": {
    "pycharm": {
     "is_executing": true
    }
   },
   "outputs": [],
   "source": [
    "for i in range(0, len(dbscan_parameters)):\n",
    "    final_dbscan_df =final_dbscan_df.append({\n",
    "        \"Dataset\":Dataset[0],\n",
    "        \"[eps,min_samples]\":dbscan_parameters.iloc[i].to_list(),\n",
    "        \"f1 score\":final_iris_dbscan[i][1],\n",
    "        \"Adjusted Random Score\":final_iris_dbscan[i][2],\n",
    "        \"Silhouette Score\":final_iris_dbscan[i][3],\n",
    "        \"Execution Time\":final_iris_dbscan[i][4],\n",
    "        },ignore_index=True)\n",
    "\n",
    "for i in range(0, len(dbscan_parameters)):\n",
    "    final_dbscan_df =final_dbscan_df.append({\n",
    "        \"Dataset\":Dataset[1],\n",
    "        \"[eps,min_samples]\":dbscan_parameters.iloc[i].to_list(),\n",
    "        \"f1 score\":final_wine_dbscan[i][1],\n",
    "        \"Adjusted Random Score\":final_wine_dbscan[i][2],\n",
    "        \"Silhouette Score\":final_wine_dbscan[i][3],\n",
    "        \"Execution Time\":final_wine_dbscan[i][4],\n",
    "        },ignore_index=True)\n",
    "    \n",
    "final_dbscan_df  "
   ]
  },
  {
   "cell_type": "code",
   "execution_count": null,
   "metadata": {
    "pycharm": {
     "is_executing": true
    }
   },
   "outputs": [],
   "source": [
    "final_dbscan_df.to_csv('DBScan_Data.csv')"
   ]
  },
  {
   "cell_type": "code",
   "execution_count": null,
   "metadata": {
    "pycharm": {
     "is_executing": true
    }
   },
   "outputs": [],
   "source": [
    "# n_clusters = len(set(y_dbscan)) - (1 if -1 in y_dbscan else 0)\n",
    "# n_noise = list(y_dbscan).count(-1)\n",
    "\n",
    "# print('Estimated number of clusters: %d' % n_clusters)\n",
    "# print('Estimated number of noise points: %d' % n_noise)"
   ]
  },
  {
   "cell_type": "markdown",
   "metadata": {},
   "source": [
    "Unlike k-means, DBSCAN will figure out the number of clusters. \n",
    "DBSCAN works by determining whether the minimum number of points are close enough to \n",
    "one another to be considered part of a single cluster. DBSCAN is very sensitive to scale since \n",
    "epsilon is a fixed value for the maximum distance between two points."
   ]
  },
  {
   "cell_type": "markdown",
   "metadata": {},
   "source": [
    "# Optics Clustering"
   ]
  },
  {
   "cell_type": "code",
   "execution_count": 88,
   "metadata": {
    "pycharm": {
     "is_executing": true
    }
   },
   "outputs": [
    {
     "data": {
      "text/html": [
       "<div>\n",
       "<style scoped>\n",
       "    .dataframe tbody tr th:only-of-type {\n",
       "        vertical-align: middle;\n",
       "    }\n",
       "\n",
       "    .dataframe tbody tr th {\n",
       "        vertical-align: top;\n",
       "    }\n",
       "\n",
       "    .dataframe thead th {\n",
       "        text-align: right;\n",
       "    }\n",
       "</style>\n",
       "<table border=\"1\" class=\"dataframe\">\n",
       "  <thead>\n",
       "    <tr style=\"text-align: right;\">\n",
       "      <th></th>\n",
       "      <th>min_samples</th>\n",
       "    </tr>\n",
       "  </thead>\n",
       "  <tbody>\n",
       "    <tr>\n",
       "      <th>0</th>\n",
       "      <td>2</td>\n",
       "    </tr>\n",
       "    <tr>\n",
       "      <th>1</th>\n",
       "      <td>3</td>\n",
       "    </tr>\n",
       "    <tr>\n",
       "      <th>2</th>\n",
       "      <td>4</td>\n",
       "    </tr>\n",
       "    <tr>\n",
       "      <th>3</th>\n",
       "      <td>5</td>\n",
       "    </tr>\n",
       "    <tr>\n",
       "      <th>4</th>\n",
       "      <td>6</td>\n",
       "    </tr>\n",
       "    <tr>\n",
       "      <th>5</th>\n",
       "      <td>7</td>\n",
       "    </tr>\n",
       "    <tr>\n",
       "      <th>6</th>\n",
       "      <td>8</td>\n",
       "    </tr>\n",
       "  </tbody>\n",
       "</table>\n",
       "</div>"
      ],
      "text/plain": [
       "   min_samples\n",
       "0            2\n",
       "1            3\n",
       "2            4\n",
       "3            5\n",
       "4            6\n",
       "5            7\n",
       "6            8"
      ]
     },
     "execution_count": 88,
     "metadata": {},
     "output_type": "execute_result"
    }
   ],
   "source": [
    "min_samples = [2,3,4,5,6,7,8]\n",
    "\n",
    "optics_parameters = pd.DataFrame({\n",
    "    \"min_samples\" :[]\n",
    "}).astype(int)\n",
    "\n",
    "for n in min_samples:\n",
    "    optics_parameters = optics_parameters.append({\n",
    "    \"min_samples\": n},ignore_index=True)\n",
    "        \n",
    "optics_parameters"
   ]
  },
  {
   "cell_type": "code",
   "execution_count": 89,
   "metadata": {},
   "outputs": [],
   "source": [
    "final_iris_optics = Parallel(n_jobs=-1)(delayed(algorithm)(iris_x_scaled, iris_y, \"optics\", optics_parameters.iloc[i]) for i in range(0, len(optics_parameters)))\n",
    "final_wine_optics = Parallel(n_jobs=-1)(delayed(algorithm)(wine_x_scaled, wine_y, \"optics\", optics_parameters.iloc[i]) for i in range(0, len(optics_parameters)))"
   ]
  },
  {
   "cell_type": "code",
   "execution_count": 90,
   "metadata": {},
   "outputs": [],
   "source": [
    "final_optics_df=pd.DataFrame({\n",
    "    \"Dataset\":[],\n",
    "    \"[min_samples]\":[],\n",
    "    \"f1 score\":[],\n",
    "    \"Adjusted Random Score\":[],\n",
    "    \"Silhouette Score\":[],\n",
    "    \"Execution Time\":[],\n",
    "})"
   ]
  },
  {
   "cell_type": "code",
   "execution_count": 91,
   "metadata": {},
   "outputs": [
    {
     "data": {
      "text/html": [
       "<div>\n",
       "<style scoped>\n",
       "    .dataframe tbody tr th:only-of-type {\n",
       "        vertical-align: middle;\n",
       "    }\n",
       "\n",
       "    .dataframe tbody tr th {\n",
       "        vertical-align: top;\n",
       "    }\n",
       "\n",
       "    .dataframe thead th {\n",
       "        text-align: right;\n",
       "    }\n",
       "</style>\n",
       "<table border=\"1\" class=\"dataframe\">\n",
       "  <thead>\n",
       "    <tr style=\"text-align: right;\">\n",
       "      <th></th>\n",
       "      <th>Dataset</th>\n",
       "      <th>[eps,min_samples]</th>\n",
       "      <th>f1 score</th>\n",
       "      <th>Adjusted Random Score</th>\n",
       "      <th>Silhouette Score</th>\n",
       "      <th>Execution Time</th>\n",
       "    </tr>\n",
       "  </thead>\n",
       "  <tbody>\n",
       "    <tr>\n",
       "      <th>0</th>\n",
       "      <td>Iris</td>\n",
       "      <td>[0.1, 2.0]</td>\n",
       "      <td>0.505427</td>\n",
       "      <td>0.426260</td>\n",
       "      <td>0.230234</td>\n",
       "      <td>0.015957</td>\n",
       "    </tr>\n",
       "    <tr>\n",
       "      <th>1</th>\n",
       "      <td>Iris</td>\n",
       "      <td>[0.1, 3.0]</td>\n",
       "      <td>0.505427</td>\n",
       "      <td>0.428689</td>\n",
       "      <td>0.202901</td>\n",
       "      <td>0.040890</td>\n",
       "    </tr>\n",
       "    <tr>\n",
       "      <th>2</th>\n",
       "      <td>Iris</td>\n",
       "      <td>[0.1, 4.0]</td>\n",
       "      <td>0.473502</td>\n",
       "      <td>0.393767</td>\n",
       "      <td>0.134221</td>\n",
       "      <td>0.013962</td>\n",
       "    </tr>\n",
       "    <tr>\n",
       "      <th>3</th>\n",
       "      <td>Iris</td>\n",
       "      <td>[0.1, 5.0]</td>\n",
       "      <td>0.406043</td>\n",
       "      <td>0.441407</td>\n",
       "      <td>0.057464</td>\n",
       "      <td>0.011969</td>\n",
       "    </tr>\n",
       "    <tr>\n",
       "      <th>4</th>\n",
       "      <td>Iris</td>\n",
       "      <td>[0.1, 6.0]</td>\n",
       "      <td>0.461289</td>\n",
       "      <td>0.366987</td>\n",
       "      <td>0.057155</td>\n",
       "      <td>0.007977</td>\n",
       "    </tr>\n",
       "    <tr>\n",
       "      <th>...</th>\n",
       "      <td>...</td>\n",
       "      <td>...</td>\n",
       "      <td>...</td>\n",
       "      <td>...</td>\n",
       "      <td>...</td>\n",
       "      <td>...</td>\n",
       "    </tr>\n",
       "    <tr>\n",
       "      <th>121</th>\n",
       "      <td>Wine</td>\n",
       "      <td>[0.9, 4.0]</td>\n",
       "      <td>0.165031</td>\n",
       "      <td>0.000000</td>\n",
       "      <td>None</td>\n",
       "      <td>0.015620</td>\n",
       "    </tr>\n",
       "    <tr>\n",
       "      <th>122</th>\n",
       "      <td>Wine</td>\n",
       "      <td>[0.9, 5.0]</td>\n",
       "      <td>0.165031</td>\n",
       "      <td>0.000000</td>\n",
       "      <td>None</td>\n",
       "      <td>0.015620</td>\n",
       "    </tr>\n",
       "    <tr>\n",
       "      <th>123</th>\n",
       "      <td>Wine</td>\n",
       "      <td>[0.9, 6.0]</td>\n",
       "      <td>0.165031</td>\n",
       "      <td>0.000000</td>\n",
       "      <td>None</td>\n",
       "      <td>0.015620</td>\n",
       "    </tr>\n",
       "    <tr>\n",
       "      <th>124</th>\n",
       "      <td>Wine</td>\n",
       "      <td>[0.9, 7.0]</td>\n",
       "      <td>0.165031</td>\n",
       "      <td>0.000000</td>\n",
       "      <td>None</td>\n",
       "      <td>0.015620</td>\n",
       "    </tr>\n",
       "    <tr>\n",
       "      <th>125</th>\n",
       "      <td>Wine</td>\n",
       "      <td>[0.9, 8.0]</td>\n",
       "      <td>0.165031</td>\n",
       "      <td>0.000000</td>\n",
       "      <td>None</td>\n",
       "      <td>0.000000</td>\n",
       "    </tr>\n",
       "  </tbody>\n",
       "</table>\n",
       "<p>126 rows × 6 columns</p>\n",
       "</div>"
      ],
      "text/plain": [
       "    Dataset [eps,min_samples]  f1 score  Adjusted Random Score  \\\n",
       "0      Iris        [0.1, 2.0]  0.505427               0.426260   \n",
       "1      Iris        [0.1, 3.0]  0.505427               0.428689   \n",
       "2      Iris        [0.1, 4.0]  0.473502               0.393767   \n",
       "3      Iris        [0.1, 5.0]  0.406043               0.441407   \n",
       "4      Iris        [0.1, 6.0]  0.461289               0.366987   \n",
       "..      ...               ...       ...                    ...   \n",
       "121    Wine        [0.9, 4.0]  0.165031               0.000000   \n",
       "122    Wine        [0.9, 5.0]  0.165031               0.000000   \n",
       "123    Wine        [0.9, 6.0]  0.165031               0.000000   \n",
       "124    Wine        [0.9, 7.0]  0.165031               0.000000   \n",
       "125    Wine        [0.9, 8.0]  0.165031               0.000000   \n",
       "\n",
       "    Silhouette Score  Execution Time  \n",
       "0           0.230234        0.015957  \n",
       "1           0.202901        0.040890  \n",
       "2           0.134221        0.013962  \n",
       "3           0.057464        0.011969  \n",
       "4           0.057155        0.007977  \n",
       "..               ...             ...  \n",
       "121             None        0.015620  \n",
       "122             None        0.015620  \n",
       "123             None        0.015620  \n",
       "124             None        0.015620  \n",
       "125             None        0.000000  \n",
       "\n",
       "[126 rows x 6 columns]"
      ]
     },
     "execution_count": 91,
     "metadata": {},
     "output_type": "execute_result"
    }
   ],
   "source": [
    "for i in range(0, len(optics_parameters)):\n",
    "    final_optics_df =final_optics_df.append({\n",
    "        \"Dataset\":Dataset[0],\n",
    "        \"[eps,min_samples]\":optics_parameters.iloc[i].to_list(),\n",
    "        \"f1 score\":final_iris_optics[i][1],\n",
    "        \"Adjusted Random Score\":final_iris_optics[i][2],\n",
    "        \"Silhouette Score\":final_iris_optics[i][3],\n",
    "        \"Execution Time\":final_iris_optics[i][4],\n",
    "        },ignore_index=True)\n",
    "\n",
    "for i in range(0, len(optics_parameters)):\n",
    "    final_optics_df =final_optics_df.append({\n",
    "        \"Dataset\":Dataset[1],\n",
    "        \"[eps,min_samples]\":optics_parameters.iloc[i].to_list(),\n",
    "        \"f1 score\":final_wine_optics[i][1],\n",
    "        \"Adjusted Random Score\":final_wine_optics[i][2],\n",
    "        \"Silhouette Score\":final_wine_optics[i][3],\n",
    "        \"Execution Time\":final_wine_optics[i][4],\n",
    "        },ignore_index=True)\n",
    "    \n",
    "final_dbscan_df  "
   ]
  },
  {
   "cell_type": "code",
   "execution_count": null,
   "metadata": {},
   "outputs": [],
   "source": []
  },
  {
   "cell_type": "markdown",
   "metadata": {},
   "source": [
    "# Gaussian mixtures Clustering"
   ]
  },
  {
   "cell_type": "code",
   "execution_count": null,
   "metadata": {
    "pycharm": {
     "is_executing": true
    }
   },
   "outputs": [],
   "source": [
    "n_components=[1,2,3,4,5,6,7,8,9,10]\n",
    "covariance_type=[\"full\", \"tied\",\"diag\", \"spherical\"]\n",
    "\n",
    "gm_parameters=pd.DataFrame({\n",
    "    \"n_components\":[],\n",
    "    \"covariance_type\":[]\n",
    "}).astype(int)\n",
    "\n",
    "for i in n_components:\n",
    "    for n in covariance_type:\n",
    "        gm_parameters=gm_parameters.append({\n",
    "            \"n_components\":i,\n",
    "            \"covariance_type\":n\n",
    "        },ignore_index=True)\n",
    "        \n",
    "gm_parameters"
   ]
  },
  {
   "cell_type": "code",
   "execution_count": null,
   "metadata": {
    "pycharm": {
     "is_executing": true
    }
   },
   "outputs": [],
   "source": [
    "final_iris_gm = Parallel(n_jobs=-1)(delayed(algorithm)(iris_x_scaled, iris_y, \"gm\", gm_parameters.iloc[i]) for i in range(0, len(gm_parameters)))\n",
    "final_wine_gm = Parallel(n_jobs=-1)(delayed(algorithm)(wine_x_scaled, wine_y, \"gm\", gm_parameters.iloc[i]) for i in range(0, len(gm_parameters)))"
   ]
  },
  {
   "cell_type": "code",
   "execution_count": null,
   "metadata": {
    "pycharm": {
     "is_executing": true
    }
   },
   "outputs": [],
   "source": [
    "final_gm_df=pd.DataFrame({\n",
    "    \"Dataset\":[],\n",
    "    \"[n_components,covariance_type]\":[],\n",
    "    \"f1 score\":[],\n",
    "    \"Adjusted Random Score\":[],\n",
    "    \"Silhouette Score\":[],\n",
    "    \"Execution Time\":[],\n",
    "})"
   ]
  },
  {
   "cell_type": "code",
   "execution_count": null,
   "metadata": {
    "pycharm": {
     "is_executing": true
    }
   },
   "outputs": [],
   "source": [
    "for i in range(0, len(gm_parameters)):\n",
    "    final_gm_df =final_gm_df.append({\n",
    "        \"Dataset\":Dataset[0],\n",
    "        \"[n_components,covariance_type]\":gm_parameters.iloc[i].to_list(),\n",
    "        \"f1 score\":final_iris_gm[i][1],\n",
    "        \"Adjusted Random Score\":final_iris_gm[i][2],\n",
    "        \"Silhouette Score\":final_iris_gm[i][3],\n",
    "        \"Execution Time\":final_iris_gm[i][4],\n",
    "        },ignore_index=True)\n",
    "\n",
    "for i in range(0, len(gm_parameters)):\n",
    "    final_gm_df =final_gm_df.append({\n",
    "        \"Dataset\":Dataset[1],\n",
    "        \"[n_components,covariance_type]\":gm_parameters.iloc[i].to_list(),\n",
    "        \"f1 score\":final_wine_gm[i][1],\n",
    "        \"Adjusted Random Score\":final_wine_gm[i][2],\n",
    "        \"Silhouette Score\":final_wine_gm[i][3],\n",
    "        \"Execution Time\":final_wine_gm[i][4],\n",
    "        },ignore_index=True)\n",
    "    \n",
    "final_gm_df  "
   ]
  },
  {
   "cell_type": "code",
   "execution_count": null,
   "metadata": {
    "pycharm": {
     "is_executing": true
    }
   },
   "outputs": [],
   "source": [
    "final_gm_df.to_csv('Gaussian_Mixtures_Data.csv')"
   ]
  },
  {
   "cell_type": "markdown",
   "metadata": {},
   "source": [
    "# Affinity propagation"
   ]
  },
  {
   "cell_type": "code",
   "execution_count": null,
   "metadata": {
    "pycharm": {
     "is_executing": true
    }
   },
   "outputs": [],
   "source": [
    "preference = [-1,-3,-5,-7,-9,-11,-13]\n",
    "damping = [0.5,0.7,0.9]\n",
    "\n",
    "ap_parameters = pd.DataFrame({\n",
    "    \"preference\":[],\n",
    "    \"damping\" :[]\n",
    "}).astype(int)\n",
    "\n",
    "for i in preference:\n",
    "    for n in damping:\n",
    "        ap_parameters=ap_parameters.append({\n",
    "            \"preference\":i,\n",
    "            \"damping\" :n\n",
    "        },ignore_index=True)\n",
    "        \n",
    "ap_parameters"
   ]
  },
  {
   "cell_type": "code",
   "execution_count": null,
   "metadata": {
    "pycharm": {
     "is_executing": true
    }
   },
   "outputs": [],
   "source": [
    "final_iris_ap = Parallel(n_jobs=-1)(delayed(algorithm)(iris_x_scaled, iris_y, \"ap\", ap_parameters.iloc[i]) for i in range(0, len(ap_parameters)))\n",
    "final_wine_ap = Parallel(n_jobs=-1)(delayed(algorithm)(wine_x_scaled, wine_y, \"ap\", ap_parameters.iloc[i]) for i in range(0, len(ap_parameters)))"
   ]
  },
  {
   "cell_type": "code",
   "execution_count": null,
   "metadata": {
    "pycharm": {
     "is_executing": true
    }
   },
   "outputs": [],
   "source": [
    "final_ap_df=pd.DataFrame({\n",
    "    \"Dataset\":[],\n",
    "    \"[preference, damping]\":[],\n",
    "    \"f1 score\":[],\n",
    "    \"Adjusted Random Score\":[],\n",
    "    \"Silhouette Score\":[],\n",
    "    \"Execution Time\":[],\n",
    "})"
   ]
  },
  {
   "cell_type": "code",
   "execution_count": null,
   "metadata": {
    "pycharm": {
     "is_executing": true
    }
   },
   "outputs": [],
   "source": [
    "for i in range(0, len(ap_parameters)):\n",
    "    final_ap_df =final_ap_df.append({\n",
    "        \"Dataset\":Dataset[0],\n",
    "        \"[preference, damping]\":ap_parameters.iloc[i].to_list(),\n",
    "        \"f1 score\":final_iris_ap[i][1],\n",
    "        \"Adjusted Random Score\":final_iris_ap[i][2],\n",
    "        \"Silhouette Score\":final_iris_ap[i][3],\n",
    "        \"Execution Time\":final_iris_ap[i][4],\n",
    "        },ignore_index=True)\n",
    "    \n",
    "for i in range(0, len(ap_parameters)):\n",
    "    final_ap_df =final_ap_df.append({\n",
    "        \"Dataset\":Dataset[1],\n",
    "        \"[preference, damping]\":ap_parameters.iloc[i].to_list(),\n",
    "        \"f1 score\":final_wine_ap[i][1],\n",
    "        \"Adjusted Random Score\":final_wine_ap[i][2],\n",
    "        \"Silhouette Score\":final_wine_ap[i][3],\n",
    "        \"Execution Time\":final_wine_ap[i][4],\n",
    "        },ignore_index=True)\n",
    "    \n",
    "    \n",
    "final_ap_df "
   ]
  },
  {
   "cell_type": "code",
   "execution_count": null,
   "metadata": {
    "pycharm": {
     "is_executing": true
    }
   },
   "outputs": [],
   "source": [
    "final_ap_df.to_csv('Affinity_Propagation_Data.csv')"
   ]
  },
  {
   "cell_type": "markdown",
   "metadata": {},
   "source": [
    "# Mean-shift "
   ]
  },
  {
   "cell_type": "code",
   "execution_count": null,
   "metadata": {
    "pycharm": {
     "is_executing": true
    }
   },
   "outputs": [],
   "source": [
    "bandwidth = [0.2,0.3,0.4,0.5,0.6,0.7,0.8]\n",
    "\n",
    "meanshift_parameters = pd.DataFrame(bandwidth,columns=[\"bandwidth\"])\n",
    "\n",
    "\n",
    "# for i in bandwidth:\n",
    "#         meanshift_parameters=meanshift_parameters.append({\n",
    "#             \"bandwidth\":i,\n",
    "#         },ignore_index=True)\n",
    "        \n",
    "meanshift_parameters"
   ]
  },
  {
   "cell_type": "code",
   "execution_count": null,
   "metadata": {
    "pycharm": {
     "is_executing": true
    }
   },
   "outputs": [],
   "source": [
    "final_iris_meanshift = Parallel(n_jobs=-1)(delayed(algorithm)(iris_x_scaled, iris_y, \"meanshift\",meanshift_parameters.iloc[i]) for i in range(0, len(meanshift_parameters)))\n",
    "final_wine_meanshift = Parallel(n_jobs=-1)(delayed(algorithm)(wine_x_scaled, wine_y, \"meanshift\",meanshift_parameters.iloc[i]) for i in range(0, len(meanshift_parameters)))"
   ]
  },
  {
   "cell_type": "code",
   "execution_count": null,
   "metadata": {
    "pycharm": {
     "is_executing": true
    }
   },
   "outputs": [],
   "source": [
    "final_meanshift_df=pd.DataFrame({\n",
    "    \"Dataset\":[],\n",
    "    \"[bandwidth]\":[],\n",
    "    \"f1 score\":[],\n",
    "    \"Adjusted Random Score\":[],\n",
    "    \"Silhouette Score\":[],\n",
    "    \"Execution Time\":[],\n",
    "})"
   ]
  },
  {
   "cell_type": "code",
   "execution_count": null,
   "metadata": {
    "pycharm": {
     "is_executing": true
    }
   },
   "outputs": [],
   "source": [
    "for i in range(0, len(meanshift_parameters)):\n",
    "    final_meanshift_df =final_meanshift_df.append({\n",
    "        \"Dataset\":Dataset[0],\n",
    "        \"[bandwidth]\":meanshift_parameters.iloc[i].to_list(),\n",
    "        \"f1 score\":final_iris_meanshift[i][1],\n",
    "        \"Adjusted Random Score\":final_iris_meanshift[i][2],\n",
    "        \"Silhouette Score\":final_iris_meanshift[i][3],\n",
    "        \"Execution Time\":final_iris_meanshift[i][4],\n",
    "        },ignore_index=True)\n",
    "    \n",
    "for i in range(0, len(meanshift_parameters)):\n",
    "    final_meanshift_df =final_meanshift_df.append({\n",
    "        \"Dataset\":Dataset[1],\n",
    "        \"[bandwidth]\":meanshift_parameters.iloc[i].to_list(),\n",
    "        \"f1 score\":final_wine_meanshift[i][1],\n",
    "        \"Adjusted Random Score\":final_wine_meanshift[i][2],\n",
    "        \"Silhouette Score\":final_wine_meanshift[i][3],\n",
    "        \"Execution Time\":final_wine_meanshift[i][4],\n",
    "        },ignore_index=True)\n",
    "    \n",
    "    \n",
    "final_meanshift_df "
   ]
  },
  {
   "cell_type": "code",
   "execution_count": null,
   "metadata": {
    "pycharm": {
     "is_executing": true
    }
   },
   "outputs": [],
   "source": [
    "final_meanshift_df.to_csv('Meanshift_Data.csv')"
   ]
  },
  {
   "cell_type": "markdown",
   "metadata": {},
   "source": [
    "# Spectral Clustering"
   ]
  },
  {
   "cell_type": "code",
   "execution_count": null,
   "metadata": {
    "pycharm": {
     "is_executing": true
    }
   },
   "outputs": [],
   "source": [
    "n_clusters=[2,3,4,5,6,7,8]\n",
    "affinity=[\"nearest_neighbors\",\"rbf\"]\n",
    "eigen_solver=[\"arpack\"]\n",
    "\n",
    "    \n",
    "spectral_parameters = pd.DataFrame({\"n_clusters\":[] , \n",
    "                                 \"affinity\":[] , \n",
    "                                 \"eigen_solver\":[]}).astype(int)\n",
    "\n",
    "for i in n_clusters:\n",
    "        for  af in affinity:\n",
    "            for n in eigen_solver:\n",
    "                spectral_parameters = spectral_parameters.append({\"n_clusters\" : i, \n",
    "                                                            \"affinity\" : af, \n",
    "                                                            \"eigen_solver\" : n},ignore_index=True)\n",
    "                \n",
    "                \n",
    "spectral_parameters"
   ]
  },
  {
   "cell_type": "code",
   "execution_count": null,
   "metadata": {
    "pycharm": {
     "is_executing": true
    }
   },
   "outputs": [],
   "source": [
    "final_iris_spectral = Parallel(n_jobs=-1)(delayed(algorithm)(iris_x_scaled, iris_y, \"spectral\", spectral_parameters.iloc[i]) for i in range(0, len(spectral_parameters)))\n",
    "final_wine_spectral = Parallel(n_jobs=-1)(delayed(algorithm)(wine_x_scaled, wine_y, \"spectral\", spectral_parameters.iloc[i]) for i in range(0, len(spectral_parameters)))"
   ]
  },
  {
   "cell_type": "code",
   "execution_count": null,
   "metadata": {
    "pycharm": {
     "is_executing": true
    }
   },
   "outputs": [],
   "source": [
    "final_spectral_df=pd.DataFrame({\n",
    "    \"Dataset\":[],\n",
    "    \"[n_clusters, affinity]\":[],\n",
    "    \"f1 score\":[],\n",
    "    \"Adjusted Random Score\":[],\n",
    "    \"Silhouette Score\":[],\n",
    "    \"Execution Time\":[],\n",
    "})"
   ]
  },
  {
   "cell_type": "code",
   "execution_count": null,
   "metadata": {
    "pycharm": {
     "is_executing": true
    }
   },
   "outputs": [],
   "source": [
    "for i in range(0, len(spectral_parameters)):\n",
    "    final_spectral_df =final_spectral_df.append({\n",
    "        \"Dataset\":Dataset[0],\n",
    "        \"[n_clusters, affinity]\":spectral_parameters.iloc[i].to_list(),\n",
    "        \"f1 score\":final_iris_spectral[i][1],\n",
    "        \"Adjusted Random Score\":final_iris_spectral[i][2],\n",
    "        \"Silhouette Score\":final_iris_spectral[i][3],\n",
    "        \"Execution Time\":final_iris_spectral[i][4],\n",
    "        },ignore_index=True)\n",
    "    \n",
    "for i in range(0, len(spectral_parameters)):\n",
    "    final_spectral_df =final_spectral_df.append({\n",
    "        \"Dataset\":Dataset[1],\n",
    "        \"[n_clusters, affinity]\":spectral_parameters.iloc[i].to_list(),\n",
    "        \"f1 score\":final_wine_spectral[i][1],\n",
    "        \"Adjusted Random Score\":final_wine_spectral[i][2],\n",
    "        \"Silhouette Score\":final_wine_spectral[i][3],\n",
    "        \"Execution Time\":final_wine_spectral[i][4],\n",
    "        },ignore_index=True)\n",
    "    \n",
    "    \n",
    "final_spectral_df "
   ]
  },
  {
   "cell_type": "code",
   "execution_count": null,
   "metadata": {
    "pycharm": {
     "is_executing": true
    }
   },
   "outputs": [],
   "source": [
    "final_spectral_df .to_csv('Spectral_Data.csv')"
   ]
  },
  {
   "cell_type": "markdown",
   "metadata": {},
   "source": [
    "# BIRCH (Balanced Iterative Reducing and Clustering using Hierarchies )"
   ]
  },
  {
   "cell_type": "code",
   "execution_count": null,
   "metadata": {
    "pycharm": {
     "is_executing": true
    }
   },
   "outputs": [],
   "source": [
    "def algorithm(x, y, parameters):\n",
    "    start_time = time.time()\n",
    "    model= Birch(n_clusters=3,threshold=parameters[0])  \n",
    "    y_predict = model.fit_predict(x)\n",
    "    f1score = f1_score(y, y_predict, average = 'weighted')\n",
    "    ars = adjusted_rand_score(y, y_predict)\n",
    "#   sscore = silhouette_score(x, y_predict, metric=\"euclidean\")\n",
    "    execution_time = time.time() - start_time\n",
    "    return y_predict, f1score, ars, execution_time"
   ]
  },
  {
   "cell_type": "code",
   "execution_count": null,
   "metadata": {
    "pycharm": {
     "is_executing": true
    }
   },
   "outputs": [],
   "source": [
    "threshold=[0.1,0.2,0.3,0.4,0.5,0.6,0.7,0.8]\n",
    "    \n",
    "birch_parameters = pd.DataFrame(threshold,columns=[\"threshold\"])\n",
    "            \n",
    "birch_parameters"
   ]
  },
  {
   "cell_type": "code",
   "execution_count": null,
   "metadata": {
    "pycharm": {
     "is_executing": true
    }
   },
   "outputs": [],
   "source": [
    "final_iris_birch = Parallel(n_jobs=-1)(delayed(algorithm)(iris_x_scaled, iris_y, birch_parameters.iloc[i]) for i in range(0, len(birch_parameters)))\n",
    "# final_wine_birch = Parallel(n_jobs=-1)(delayed(algorithm)(wine_x_scaled, wine_y, \"birch\", birch_parameters.iloc[i]) for i in range(0, len(birch_parameters)))"
   ]
  },
  {
   "cell_type": "code",
   "execution_count": null,
   "metadata": {
    "pycharm": {
     "is_executing": true
    }
   },
   "outputs": [],
   "source": [
    "final_spectral_df=pd.DataFrame({\n",
    "    \"Dataset\":[],\n",
    "    \"[n_clusters, affinity]\":[],\n",
    "    \"f1 score\":[],\n",
    "    \"Adjusted Random Score\":[],\n",
    "    \"Silhouette Score\":[],\n",
    "    \"Execution Time\":[],\n",
    "})"
   ]
  },
  {
   "cell_type": "code",
   "execution_count": null,
   "metadata": {
    "pycharm": {
     "is_executing": true
    }
   },
   "outputs": [],
   "source": [
    "for i in range(0, len(spectral_parameters)):\n",
    "    final_spectral_df =final_spectral_df.append({\n",
    "        \"Dataset\":Dataset[0],\n",
    "        \"[n_clusters, affinity]\":spectral_parameters.iloc[i].to_list(),\n",
    "        \"f1 score\":final_iris_spectral[i][1],\n",
    "        \"Adjusted Random Score\":final_iris_spectral[i][2],\n",
    "        \"Silhouette Score\":final_iris_spectral[i][3],\n",
    "        \"Execution Time\":final_iris_spectral[i][4],\n",
    "        },ignore_index=True)\n",
    "    \n",
    "for i in range(0, len(spectral_parameters)):\n",
    "    final_spectral_df =final_spectral_df.append({\n",
    "        \"Dataset\":Dataset[1],\n",
    "        \"[n_clusters, affinity]\":spectral_parameters.iloc[i].to_list(),\n",
    "        \"f1 score\":final_wine_spectral[i][1],\n",
    "        \"Adjusted Random Score\":final_wine_spectral[i][2],\n",
    "        \"Silhouette Score\":final_wine_spectral[i][3],\n",
    "        \"Execution Time\":final_wine_spectral[i][4],\n",
    "        },ignore_index=True)\n",
    "    \n",
    "    \n",
    "final_spectral_df "
   ]
  },
  {
   "cell_type": "code",
   "execution_count": null,
   "metadata": {
    "pycharm": {
     "is_executing": true
    }
   },
   "outputs": [],
   "source": []
  },
  {
   "cell_type": "code",
   "execution_count": null,
   "metadata": {
    "pycharm": {
     "is_executing": true
    }
   },
   "outputs": [],
   "source": []
  },
  {
   "cell_type": "markdown",
   "metadata": {},
   "source": [
    "# Ward hierarchical"
   ]
  },
  {
   "cell_type": "code",
   "execution_count": null,
   "metadata": {
    "pycharm": {
     "is_executing": true
    }
   },
   "outputs": [],
   "source": [
    "from sklearn import metrics\n",
    "labels_true = [0, 0, 0, 1, 1, 1]\n",
    "labels_pred = [0, 0, 0, 1, 1, 2]\n",
    "metrics.rand_score(labels_true, labels_pred)"
   ]
  },
  {
   "cell_type": "code",
   "execution_count": null,
   "metadata": {
    "pycharm": {
     "is_executing": true
    }
   },
   "outputs": [],
   "source": []
  },
  {
   "cell_type": "code",
   "execution_count": null,
   "metadata": {
    "pycharm": {
     "is_executing": true
    }
   },
   "outputs": [],
   "source": [
    "ap =MeanShift(bandwidth=0.75)\n",
    "y_predict = ap.fit_predict(wine_x_scaled)\n",
    "\n",
    "y_predict"
   ]
  },
  {
   "cell_type": "code",
   "execution_count": null,
   "metadata": {
    "pycharm": {
     "is_executing": true
    }
   },
   "outputs": [],
   "source": [
    "model= Birch(threshold=0.1, n_clusters =3)\n",
    "y_predict = model.fit_predict(iris_x_scaled)\n",
    "y_predict"
   ]
  },
  {
   "cell_type": "code",
   "execution_count": null,
   "metadata": {
    "pycharm": {
     "is_executing": true
    }
   },
   "outputs": [],
   "source": []
  }
 ],
 "metadata": {
  "kernelspec": {
   "display_name": "Python 3 (ipykernel)",
   "language": "python",
   "name": "python3"
  },
  "language_info": {
   "codemirror_mode": {
    "name": "ipython",
    "version": 3
   },
   "file_extension": ".py",
   "mimetype": "text/x-python",
   "name": "python",
   "nbconvert_exporter": "python",
   "pygments_lexer": "ipython3",
   "version": "3.9.6"
  }
 },
 "nbformat": 4,
 "nbformat_minor": 1
}