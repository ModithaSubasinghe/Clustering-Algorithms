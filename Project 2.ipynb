{
 "cells": [
  {
   "cell_type": "code",
   "execution_count": 1,
   "metadata": {},
   "outputs": [],
   "source": [
    "import openml\n",
    "import pandas as pd\n",
    "import numpy as np\n",
    "from sklearn.preprocessing import LabelEncoder #For encoding categorical variables\n",
    "from sklearn.preprocessing import MinMaxScaler\n",
    "from sklearn.cluster import KMeans,AgglomerativeClustering,DBSCAN\n",
    "from sklearn.metrics import accuracy_score,f1_score,adjusted_rand_score,silhouette_score\n",
    "from joblib import Parallel,delayed\n",
    "import time"
   ]
  },
  {
   "cell_type": "markdown",
   "metadata": {},
   "source": [
    "# Download Datasets Using openml"
   ]
  },
  {
   "cell_type": "code",
   "execution_count": 2,
   "metadata": {},
   "outputs": [
    {
     "data": {
      "text/plain": "     sepallength  sepalwidth  petallength  petalwidth           class\n0            5.1         3.5          1.4         0.2     Iris-setosa\n1            4.9         3.0          1.4         0.2     Iris-setosa\n2            4.7         3.2          1.3         0.2     Iris-setosa\n3            4.6         3.1          1.5         0.2     Iris-setosa\n4            5.0         3.6          1.4         0.2     Iris-setosa\n..           ...         ...          ...         ...             ...\n145          6.7         3.0          5.2         2.3  Iris-virginica\n146          6.3         2.5          5.0         1.9  Iris-virginica\n147          6.5         3.0          5.2         2.0  Iris-virginica\n148          6.2         3.4          5.4         2.3  Iris-virginica\n149          5.9         3.0          5.1         1.8  Iris-virginica\n\n[150 rows x 5 columns]",
      "text/html": "<div>\n<style scoped>\n    .dataframe tbody tr th:only-of-type {\n        vertical-align: middle;\n    }\n\n    .dataframe tbody tr th {\n        vertical-align: top;\n    }\n\n    .dataframe thead th {\n        text-align: right;\n    }\n</style>\n<table border=\"1\" class=\"dataframe\">\n  <thead>\n    <tr style=\"text-align: right;\">\n      <th></th>\n      <th>sepallength</th>\n      <th>sepalwidth</th>\n      <th>petallength</th>\n      <th>petalwidth</th>\n      <th>class</th>\n    </tr>\n  </thead>\n  <tbody>\n    <tr>\n      <th>0</th>\n      <td>5.1</td>\n      <td>3.5</td>\n      <td>1.4</td>\n      <td>0.2</td>\n      <td>Iris-setosa</td>\n    </tr>\n    <tr>\n      <th>1</th>\n      <td>4.9</td>\n      <td>3.0</td>\n      <td>1.4</td>\n      <td>0.2</td>\n      <td>Iris-setosa</td>\n    </tr>\n    <tr>\n      <th>2</th>\n      <td>4.7</td>\n      <td>3.2</td>\n      <td>1.3</td>\n      <td>0.2</td>\n      <td>Iris-setosa</td>\n    </tr>\n    <tr>\n      <th>3</th>\n      <td>4.6</td>\n      <td>3.1</td>\n      <td>1.5</td>\n      <td>0.2</td>\n      <td>Iris-setosa</td>\n    </tr>\n    <tr>\n      <th>4</th>\n      <td>5.0</td>\n      <td>3.6</td>\n      <td>1.4</td>\n      <td>0.2</td>\n      <td>Iris-setosa</td>\n    </tr>\n    <tr>\n      <th>...</th>\n      <td>...</td>\n      <td>...</td>\n      <td>...</td>\n      <td>...</td>\n      <td>...</td>\n    </tr>\n    <tr>\n      <th>145</th>\n      <td>6.7</td>\n      <td>3.0</td>\n      <td>5.2</td>\n      <td>2.3</td>\n      <td>Iris-virginica</td>\n    </tr>\n    <tr>\n      <th>146</th>\n      <td>6.3</td>\n      <td>2.5</td>\n      <td>5.0</td>\n      <td>1.9</td>\n      <td>Iris-virginica</td>\n    </tr>\n    <tr>\n      <th>147</th>\n      <td>6.5</td>\n      <td>3.0</td>\n      <td>5.2</td>\n      <td>2.0</td>\n      <td>Iris-virginica</td>\n    </tr>\n    <tr>\n      <th>148</th>\n      <td>6.2</td>\n      <td>3.4</td>\n      <td>5.4</td>\n      <td>2.3</td>\n      <td>Iris-virginica</td>\n    </tr>\n    <tr>\n      <th>149</th>\n      <td>5.9</td>\n      <td>3.0</td>\n      <td>5.1</td>\n      <td>1.8</td>\n      <td>Iris-virginica</td>\n    </tr>\n  </tbody>\n</table>\n<p>150 rows × 5 columns</p>\n</div>"
     },
     "execution_count": 2,
     "metadata": {},
     "output_type": "execute_result"
    }
   ],
   "source": [
    "iris = openml.datasets.get_dataset(\"iris\")\n",
    "iris_df, iris_label, categorical_indicator, attribute_names = iris.get_data(\n",
    "    target=iris.default_target_attribute, dataset_format=\"dataframe\"\n",
    ")\n",
    "iris_df[\"class\"]=iris_label\n",
    "iris_x=iris_df.iloc[:,:4]\n",
    "iris_df"
   ]
  },
  {
   "cell_type": "code",
   "execution_count": 3,
   "metadata": {},
   "outputs": [
    {
     "data": {
      "text/plain": "     Alcohol  Malic_acid   Ash  Alcalinity_of_ash  Magnesium  Total_phenols  \\\n0      14.23        1.71  2.43               15.6        127           2.80   \n1      13.20        1.78  2.14               11.2        100           2.65   \n2      13.16        2.36  2.67               18.6        101           2.80   \n3      14.37        1.95  2.50               16.8        113           3.85   \n4      13.24        2.59  2.87               21.0        118           2.80   \n..       ...         ...   ...                ...        ...            ...   \n173    13.71        5.65  2.45               20.5         95           1.68   \n174    13.40        3.91  2.48               23.0        102           1.80   \n175    13.27        4.28  2.26               20.0        120           1.59   \n176    13.17        2.59  2.37               20.0        120           1.65   \n177    14.13        4.10  2.74               24.5         96           2.05   \n\n     Flavanoids  Nonflavanoid_phenols  Proanthocyanins  Color_intensity   Hue  \\\n0          3.06                  0.28             2.29             5.64  1.04   \n1          2.76                  0.26             1.28             4.38  1.05   \n2          3.24                  0.30             2.81             5.68  1.03   \n3          3.49                  0.24             2.18             7.80  0.86   \n4          2.69                  0.39             1.82             4.32  1.04   \n..          ...                   ...              ...              ...   ...   \n173        0.61                  0.52             1.06             7.70  0.64   \n174        0.75                  0.43             1.41             7.30  0.70   \n175        0.69                  0.43             1.35            10.20  0.59   \n176        0.68                  0.53             1.46             9.30  0.60   \n177        0.76                  0.56             1.35             9.20  0.61   \n\n     OD280%2FOD315_of_diluted_wines  Proline class  \n0                              3.92     1065     1  \n1                              3.40     1050     1  \n2                              3.17     1185     1  \n3                              3.45     1480     1  \n4                              2.93      735     1  \n..                              ...      ...   ...  \n173                            1.74      740     3  \n174                            1.56      750     3  \n175                            1.56      835     3  \n176                            1.62      840     3  \n177                            1.60      560     3  \n\n[178 rows x 14 columns]",
      "text/html": "<div>\n<style scoped>\n    .dataframe tbody tr th:only-of-type {\n        vertical-align: middle;\n    }\n\n    .dataframe tbody tr th {\n        vertical-align: top;\n    }\n\n    .dataframe thead th {\n        text-align: right;\n    }\n</style>\n<table border=\"1\" class=\"dataframe\">\n  <thead>\n    <tr style=\"text-align: right;\">\n      <th></th>\n      <th>Alcohol</th>\n      <th>Malic_acid</th>\n      <th>Ash</th>\n      <th>Alcalinity_of_ash</th>\n      <th>Magnesium</th>\n      <th>Total_phenols</th>\n      <th>Flavanoids</th>\n      <th>Nonflavanoid_phenols</th>\n      <th>Proanthocyanins</th>\n      <th>Color_intensity</th>\n      <th>Hue</th>\n      <th>OD280%2FOD315_of_diluted_wines</th>\n      <th>Proline</th>\n      <th>class</th>\n    </tr>\n  </thead>\n  <tbody>\n    <tr>\n      <th>0</th>\n      <td>14.23</td>\n      <td>1.71</td>\n      <td>2.43</td>\n      <td>15.6</td>\n      <td>127</td>\n      <td>2.80</td>\n      <td>3.06</td>\n      <td>0.28</td>\n      <td>2.29</td>\n      <td>5.64</td>\n      <td>1.04</td>\n      <td>3.92</td>\n      <td>1065</td>\n      <td>1</td>\n    </tr>\n    <tr>\n      <th>1</th>\n      <td>13.20</td>\n      <td>1.78</td>\n      <td>2.14</td>\n      <td>11.2</td>\n      <td>100</td>\n      <td>2.65</td>\n      <td>2.76</td>\n      <td>0.26</td>\n      <td>1.28</td>\n      <td>4.38</td>\n      <td>1.05</td>\n      <td>3.40</td>\n      <td>1050</td>\n      <td>1</td>\n    </tr>\n    <tr>\n      <th>2</th>\n      <td>13.16</td>\n      <td>2.36</td>\n      <td>2.67</td>\n      <td>18.6</td>\n      <td>101</td>\n      <td>2.80</td>\n      <td>3.24</td>\n      <td>0.30</td>\n      <td>2.81</td>\n      <td>5.68</td>\n      <td>1.03</td>\n      <td>3.17</td>\n      <td>1185</td>\n      <td>1</td>\n    </tr>\n    <tr>\n      <th>3</th>\n      <td>14.37</td>\n      <td>1.95</td>\n      <td>2.50</td>\n      <td>16.8</td>\n      <td>113</td>\n      <td>3.85</td>\n      <td>3.49</td>\n      <td>0.24</td>\n      <td>2.18</td>\n      <td>7.80</td>\n      <td>0.86</td>\n      <td>3.45</td>\n      <td>1480</td>\n      <td>1</td>\n    </tr>\n    <tr>\n      <th>4</th>\n      <td>13.24</td>\n      <td>2.59</td>\n      <td>2.87</td>\n      <td>21.0</td>\n      <td>118</td>\n      <td>2.80</td>\n      <td>2.69</td>\n      <td>0.39</td>\n      <td>1.82</td>\n      <td>4.32</td>\n      <td>1.04</td>\n      <td>2.93</td>\n      <td>735</td>\n      <td>1</td>\n    </tr>\n    <tr>\n      <th>...</th>\n      <td>...</td>\n      <td>...</td>\n      <td>...</td>\n      <td>...</td>\n      <td>...</td>\n      <td>...</td>\n      <td>...</td>\n      <td>...</td>\n      <td>...</td>\n      <td>...</td>\n      <td>...</td>\n      <td>...</td>\n      <td>...</td>\n      <td>...</td>\n    </tr>\n    <tr>\n      <th>173</th>\n      <td>13.71</td>\n      <td>5.65</td>\n      <td>2.45</td>\n      <td>20.5</td>\n      <td>95</td>\n      <td>1.68</td>\n      <td>0.61</td>\n      <td>0.52</td>\n      <td>1.06</td>\n      <td>7.70</td>\n      <td>0.64</td>\n      <td>1.74</td>\n      <td>740</td>\n      <td>3</td>\n    </tr>\n    <tr>\n      <th>174</th>\n      <td>13.40</td>\n      <td>3.91</td>\n      <td>2.48</td>\n      <td>23.0</td>\n      <td>102</td>\n      <td>1.80</td>\n      <td>0.75</td>\n      <td>0.43</td>\n      <td>1.41</td>\n      <td>7.30</td>\n      <td>0.70</td>\n      <td>1.56</td>\n      <td>750</td>\n      <td>3</td>\n    </tr>\n    <tr>\n      <th>175</th>\n      <td>13.27</td>\n      <td>4.28</td>\n      <td>2.26</td>\n      <td>20.0</td>\n      <td>120</td>\n      <td>1.59</td>\n      <td>0.69</td>\n      <td>0.43</td>\n      <td>1.35</td>\n      <td>10.20</td>\n      <td>0.59</td>\n      <td>1.56</td>\n      <td>835</td>\n      <td>3</td>\n    </tr>\n    <tr>\n      <th>176</th>\n      <td>13.17</td>\n      <td>2.59</td>\n      <td>2.37</td>\n      <td>20.0</td>\n      <td>120</td>\n      <td>1.65</td>\n      <td>0.68</td>\n      <td>0.53</td>\n      <td>1.46</td>\n      <td>9.30</td>\n      <td>0.60</td>\n      <td>1.62</td>\n      <td>840</td>\n      <td>3</td>\n    </tr>\n    <tr>\n      <th>177</th>\n      <td>14.13</td>\n      <td>4.10</td>\n      <td>2.74</td>\n      <td>24.5</td>\n      <td>96</td>\n      <td>2.05</td>\n      <td>0.76</td>\n      <td>0.56</td>\n      <td>1.35</td>\n      <td>9.20</td>\n      <td>0.61</td>\n      <td>1.60</td>\n      <td>560</td>\n      <td>3</td>\n    </tr>\n  </tbody>\n</table>\n<p>178 rows × 14 columns</p>\n</div>"
     },
     "execution_count": 3,
     "metadata": {},
     "output_type": "execute_result"
    }
   ],
   "source": [
    "wine = openml.datasets.get_dataset(\"wine\")\n",
    "wine_df, wine_label, categorical_indicator, attribute_names = wine.get_data(\n",
    "    target= wine.default_target_attribute, dataset_format=\"dataframe\"\n",
    ")\n",
    "wine_df[\"class\"]=wine_label\n",
    "wine_x=wine_df.iloc[:,:13]\n",
    "wine_df"
   ]
  },
  {
   "cell_type": "markdown",
   "metadata": {},
   "source": [
    "# Identify Data Types"
   ]
  },
  {
   "cell_type": "code",
   "execution_count": 4,
   "metadata": {},
   "outputs": [
    {
     "name": "stdout",
     "output_type": "stream",
     "text": [
      "<class 'pandas.core.frame.DataFrame'>\n",
      "RangeIndex: 150 entries, 0 to 149\n",
      "Data columns (total 5 columns):\n",
      " #   Column       Non-Null Count  Dtype   \n",
      "---  ------       --------------  -----   \n",
      " 0   sepallength  150 non-null    float64 \n",
      " 1   sepalwidth   150 non-null    float64 \n",
      " 2   petallength  150 non-null    float64 \n",
      " 3   petalwidth   150 non-null    float64 \n",
      " 4   class        150 non-null    category\n",
      "dtypes: category(1), float64(4)\n",
      "memory usage: 5.1 KB\n"
     ]
    }
   ],
   "source": [
    "iris_df.info()"
   ]
  },
  {
   "cell_type": "code",
   "execution_count": 5,
   "metadata": {},
   "outputs": [
    {
     "name": "stdout",
     "output_type": "stream",
     "text": [
      "<class 'pandas.core.frame.DataFrame'>\n",
      "RangeIndex: 178 entries, 0 to 177\n",
      "Data columns (total 14 columns):\n",
      " #   Column                          Non-Null Count  Dtype   \n",
      "---  ------                          --------------  -----   \n",
      " 0   Alcohol                         178 non-null    float64 \n",
      " 1   Malic_acid                      178 non-null    float64 \n",
      " 2   Ash                             178 non-null    float64 \n",
      " 3   Alcalinity_of_ash               178 non-null    float64 \n",
      " 4   Magnesium                       178 non-null    uint8   \n",
      " 5   Total_phenols                   178 non-null    float64 \n",
      " 6   Flavanoids                      178 non-null    float64 \n",
      " 7   Nonflavanoid_phenols            178 non-null    float64 \n",
      " 8   Proanthocyanins                 178 non-null    float64 \n",
      " 9   Color_intensity                 178 non-null    float64 \n",
      " 10  Hue                             178 non-null    float64 \n",
      " 11  OD280%2FOD315_of_diluted_wines  178 non-null    float64 \n",
      " 12  Proline                         178 non-null    int64   \n",
      " 13  class                           178 non-null    category\n",
      "dtypes: category(1), float64(11), int64(1), uint8(1)\n",
      "memory usage: 17.3 KB\n"
     ]
    }
   ],
   "source": [
    "wine_df.info()"
   ]
  },
  {
   "cell_type": "markdown",
   "metadata": {},
   "source": [
    "# Transform categorical variable to numeric"
   ]
  },
  {
   "cell_type": "code",
   "execution_count": 6,
   "metadata": {},
   "outputs": [],
   "source": [
    "le=LabelEncoder()\n",
    "\n",
    "iris_y=le.fit_transform(iris_label)\n",
    "wine_y=le.fit_transform(wine_label)"
   ]
  },
  {
   "cell_type": "markdown",
   "metadata": {},
   "source": [
    "# Min-max normalise"
   ]
  },
  {
   "cell_type": "code",
   "execution_count": 7,
   "metadata": {},
   "outputs": [],
   "source": [
    "scaler = MinMaxScaler()\n",
    "\n",
    "iris_x_scaled=scaler.fit_transform(iris_x)\n",
    "wine_x_scaled=scaler.fit_transform(wine_x)\n"
   ]
  },
  {
   "cell_type": "markdown",
   "metadata": {},
   "source": [
    "# DataSets"
   ]
  },
  {
   "cell_type": "code",
   "execution_count": 8,
   "metadata": {},
   "outputs": [],
   "source": [
    "Dataset = [\"Iris\",\"Wine\"]"
   ]
  },
  {
   "cell_type": "code",
   "execution_count": 8,
   "metadata": {},
   "outputs": [],
   "source": []
  },
  {
   "cell_type": "code",
   "execution_count": 9,
   "metadata": {},
   "outputs": [],
   "source": [
    "def algo (x, y, algorithm, parameters):\n",
    "    start_time = time.time()\n",
    "    y_predict = algorithm.fit_predict(x)\n",
    "    f1score = f1_score(y, y_predict, average = 'weighted')\n",
    "    ars = adjusted_rand_score(y, y_predict)\n",
    "    \n",
    "#     if algorithm ==\"dbscan\" and len(set(y_predict))<=1:\n",
    "#         sscore = print(\"none\")\n",
    "#     else:\n",
    "    sscore = silhouette_score(x, y_predict, metric='euclidean')\n",
    "    execution_time = time.time() - start_time\n",
    "    return y_predict, f1score, ars, sscore, execution_time"
   ]
  },
  {
   "cell_type": "markdown",
   "metadata": {},
   "source": [
    "# KMeans"
   ]
  },
  {
   "cell_type": "code",
   "execution_count": 10,
   "metadata": {},
   "outputs": [
    {
     "data": {
      "text/plain": "    n_clusters  max_iter  n_init\n0            2       200       5\n1            2       200      10\n2            2       200      15\n3            2       300       5\n4            2       300      10\n5            2       300      15\n6            2       400       5\n7            2       400      10\n8            2       400      15\n9            3       200       5\n10           3       200      10\n11           3       200      15\n12           3       300       5\n13           3       300      10\n14           3       300      15\n15           3       400       5\n16           3       400      10\n17           3       400      15\n18           4       200       5\n19           4       200      10\n20           4       200      15\n21           4       300       5\n22           4       300      10\n23           4       300      15\n24           4       400       5\n25           4       400      10\n26           4       400      15\n27           5       200       5\n28           5       200      10\n29           5       200      15\n30           5       300       5\n31           5       300      10\n32           5       300      15\n33           5       400       5\n34           5       400      10\n35           5       400      15\n36           6       200       5\n37           6       200      10\n38           6       200      15\n39           6       300       5\n40           6       300      10\n41           6       300      15\n42           6       400       5\n43           6       400      10\n44           6       400      15\n45           7       200       5\n46           7       200      10\n47           7       200      15\n48           7       300       5\n49           7       300      10\n50           7       300      15\n51           7       400       5\n52           7       400      10\n53           7       400      15",
      "text/html": "<div>\n<style scoped>\n    .dataframe tbody tr th:only-of-type {\n        vertical-align: middle;\n    }\n\n    .dataframe tbody tr th {\n        vertical-align: top;\n    }\n\n    .dataframe thead th {\n        text-align: right;\n    }\n</style>\n<table border=\"1\" class=\"dataframe\">\n  <thead>\n    <tr style=\"text-align: right;\">\n      <th></th>\n      <th>n_clusters</th>\n      <th>max_iter</th>\n      <th>n_init</th>\n    </tr>\n  </thead>\n  <tbody>\n    <tr>\n      <th>0</th>\n      <td>2</td>\n      <td>200</td>\n      <td>5</td>\n    </tr>\n    <tr>\n      <th>1</th>\n      <td>2</td>\n      <td>200</td>\n      <td>10</td>\n    </tr>\n    <tr>\n      <th>2</th>\n      <td>2</td>\n      <td>200</td>\n      <td>15</td>\n    </tr>\n    <tr>\n      <th>3</th>\n      <td>2</td>\n      <td>300</td>\n      <td>5</td>\n    </tr>\n    <tr>\n      <th>4</th>\n      <td>2</td>\n      <td>300</td>\n      <td>10</td>\n    </tr>\n    <tr>\n      <th>5</th>\n      <td>2</td>\n      <td>300</td>\n      <td>15</td>\n    </tr>\n    <tr>\n      <th>6</th>\n      <td>2</td>\n      <td>400</td>\n      <td>5</td>\n    </tr>\n    <tr>\n      <th>7</th>\n      <td>2</td>\n      <td>400</td>\n      <td>10</td>\n    </tr>\n    <tr>\n      <th>8</th>\n      <td>2</td>\n      <td>400</td>\n      <td>15</td>\n    </tr>\n    <tr>\n      <th>9</th>\n      <td>3</td>\n      <td>200</td>\n      <td>5</td>\n    </tr>\n    <tr>\n      <th>10</th>\n      <td>3</td>\n      <td>200</td>\n      <td>10</td>\n    </tr>\n    <tr>\n      <th>11</th>\n      <td>3</td>\n      <td>200</td>\n      <td>15</td>\n    </tr>\n    <tr>\n      <th>12</th>\n      <td>3</td>\n      <td>300</td>\n      <td>5</td>\n    </tr>\n    <tr>\n      <th>13</th>\n      <td>3</td>\n      <td>300</td>\n      <td>10</td>\n    </tr>\n    <tr>\n      <th>14</th>\n      <td>3</td>\n      <td>300</td>\n      <td>15</td>\n    </tr>\n    <tr>\n      <th>15</th>\n      <td>3</td>\n      <td>400</td>\n      <td>5</td>\n    </tr>\n    <tr>\n      <th>16</th>\n      <td>3</td>\n      <td>400</td>\n      <td>10</td>\n    </tr>\n    <tr>\n      <th>17</th>\n      <td>3</td>\n      <td>400</td>\n      <td>15</td>\n    </tr>\n    <tr>\n      <th>18</th>\n      <td>4</td>\n      <td>200</td>\n      <td>5</td>\n    </tr>\n    <tr>\n      <th>19</th>\n      <td>4</td>\n      <td>200</td>\n      <td>10</td>\n    </tr>\n    <tr>\n      <th>20</th>\n      <td>4</td>\n      <td>200</td>\n      <td>15</td>\n    </tr>\n    <tr>\n      <th>21</th>\n      <td>4</td>\n      <td>300</td>\n      <td>5</td>\n    </tr>\n    <tr>\n      <th>22</th>\n      <td>4</td>\n      <td>300</td>\n      <td>10</td>\n    </tr>\n    <tr>\n      <th>23</th>\n      <td>4</td>\n      <td>300</td>\n      <td>15</td>\n    </tr>\n    <tr>\n      <th>24</th>\n      <td>4</td>\n      <td>400</td>\n      <td>5</td>\n    </tr>\n    <tr>\n      <th>25</th>\n      <td>4</td>\n      <td>400</td>\n      <td>10</td>\n    </tr>\n    <tr>\n      <th>26</th>\n      <td>4</td>\n      <td>400</td>\n      <td>15</td>\n    </tr>\n    <tr>\n      <th>27</th>\n      <td>5</td>\n      <td>200</td>\n      <td>5</td>\n    </tr>\n    <tr>\n      <th>28</th>\n      <td>5</td>\n      <td>200</td>\n      <td>10</td>\n    </tr>\n    <tr>\n      <th>29</th>\n      <td>5</td>\n      <td>200</td>\n      <td>15</td>\n    </tr>\n    <tr>\n      <th>30</th>\n      <td>5</td>\n      <td>300</td>\n      <td>5</td>\n    </tr>\n    <tr>\n      <th>31</th>\n      <td>5</td>\n      <td>300</td>\n      <td>10</td>\n    </tr>\n    <tr>\n      <th>32</th>\n      <td>5</td>\n      <td>300</td>\n      <td>15</td>\n    </tr>\n    <tr>\n      <th>33</th>\n      <td>5</td>\n      <td>400</td>\n      <td>5</td>\n    </tr>\n    <tr>\n      <th>34</th>\n      <td>5</td>\n      <td>400</td>\n      <td>10</td>\n    </tr>\n    <tr>\n      <th>35</th>\n      <td>5</td>\n      <td>400</td>\n      <td>15</td>\n    </tr>\n    <tr>\n      <th>36</th>\n      <td>6</td>\n      <td>200</td>\n      <td>5</td>\n    </tr>\n    <tr>\n      <th>37</th>\n      <td>6</td>\n      <td>200</td>\n      <td>10</td>\n    </tr>\n    <tr>\n      <th>38</th>\n      <td>6</td>\n      <td>200</td>\n      <td>15</td>\n    </tr>\n    <tr>\n      <th>39</th>\n      <td>6</td>\n      <td>300</td>\n      <td>5</td>\n    </tr>\n    <tr>\n      <th>40</th>\n      <td>6</td>\n      <td>300</td>\n      <td>10</td>\n    </tr>\n    <tr>\n      <th>41</th>\n      <td>6</td>\n      <td>300</td>\n      <td>15</td>\n    </tr>\n    <tr>\n      <th>42</th>\n      <td>6</td>\n      <td>400</td>\n      <td>5</td>\n    </tr>\n    <tr>\n      <th>43</th>\n      <td>6</td>\n      <td>400</td>\n      <td>10</td>\n    </tr>\n    <tr>\n      <th>44</th>\n      <td>6</td>\n      <td>400</td>\n      <td>15</td>\n    </tr>\n    <tr>\n      <th>45</th>\n      <td>7</td>\n      <td>200</td>\n      <td>5</td>\n    </tr>\n    <tr>\n      <th>46</th>\n      <td>7</td>\n      <td>200</td>\n      <td>10</td>\n    </tr>\n    <tr>\n      <th>47</th>\n      <td>7</td>\n      <td>200</td>\n      <td>15</td>\n    </tr>\n    <tr>\n      <th>48</th>\n      <td>7</td>\n      <td>300</td>\n      <td>5</td>\n    </tr>\n    <tr>\n      <th>49</th>\n      <td>7</td>\n      <td>300</td>\n      <td>10</td>\n    </tr>\n    <tr>\n      <th>50</th>\n      <td>7</td>\n      <td>300</td>\n      <td>15</td>\n    </tr>\n    <tr>\n      <th>51</th>\n      <td>7</td>\n      <td>400</td>\n      <td>5</td>\n    </tr>\n    <tr>\n      <th>52</th>\n      <td>7</td>\n      <td>400</td>\n      <td>10</td>\n    </tr>\n    <tr>\n      <th>53</th>\n      <td>7</td>\n      <td>400</td>\n      <td>15</td>\n    </tr>\n  </tbody>\n</table>\n</div>"
     },
     "execution_count": 10,
     "metadata": {},
     "output_type": "execute_result"
    }
   ],
   "source": [
    "n_clusters=[2,3,4,5,6,7]\n",
    "max_iter=[200,300,400]\n",
    "n_init=[5,10,15]\n",
    "    \n",
    "kmean_parameters = pd.DataFrame({\"n_clusters\":[] , \n",
    "                                 \"max_iter\":[] , \n",
    "                                 \"n_init\":[]}).astype(int)\n",
    "\n",
    "for i in n_clusters:\n",
    "        for  ite in max_iter:\n",
    "            for n in n_init:\n",
    "                kmean_parameters = kmean_parameters.append({\"n_clusters\" : i, \n",
    "                                                            \"max_iter\" : ite, \n",
    "                                                            \"n_init\" : n},ignore_index=True)\n",
    "                \n",
    "                \n",
    "kmean_parameters"
   ]
  },
  {
   "cell_type": "code",
   "execution_count": 11,
   "metadata": {},
   "outputs": [],
   "source": [
    "kmeans =KMeans(n_clusters=kmean_parameters.iloc[0][0] , max_iter=kmean_parameters.iloc[0][1] , n_init=kmean_parameters.iloc[0][2])"
   ]
  },
  {
   "cell_type": "code",
   "execution_count": 12,
   "metadata": {},
   "outputs": [],
   "source": [
    "final_iris_kmeans = Parallel(n_jobs=-1)(delayed(algo)(iris_x_scaled, iris_y, kmeans, kmean_parameters.iloc[i]) for i in range(0, len(kmean_parameters)))\n",
    "final_wine_kmeans = Parallel(n_jobs=-1)(delayed(algo)(wine_x_scaled, wine_y, kmeans, kmean_parameters.iloc[i]) for i in range(0, len(kmean_parameters)))"
   ]
  },
  {
   "cell_type": "code",
   "execution_count": 13,
   "metadata": {},
   "outputs": [],
   "source": [
    "final_kmeans_df=pd.DataFrame({\n",
    "    \"Dataset\":[],\n",
    "    \"[n_clusters,max_iter,n_init]\":[],\n",
    "    \"f1 score\":[],\n",
    "    \"Adjusted Random Score\":[],\n",
    "    \"Silhouette Score\":[],\n",
    "    \"Execution Time\":[],\n",
    "})"
   ]
  },
  {
   "cell_type": "code",
   "execution_count": 14,
   "metadata": {},
   "outputs": [
    {
     "data": {
      "text/plain": "    Dataset [n_clusters,max_iter,n_init]  f1 score  Adjusted Random Score  \\\n0      Iris                  [2, 200, 5]  0.000000               0.568116   \n1      Iris                 [2, 200, 10]  0.000000               0.568116   \n2      Iris                 [2, 200, 15]  0.555556               0.568116   \n3      Iris                  [2, 300, 5]  0.555556               0.568116   \n4      Iris                 [2, 300, 10]  0.000000               0.568116   \n..      ...                          ...       ...                    ...   \n103    Wine                 [7, 300, 10]  0.218379               0.370227   \n104    Wine                 [7, 300, 15]  0.218379               0.370227   \n105    Wine                  [7, 400, 5]  0.218379               0.370227   \n106    Wine                 [7, 400, 10]  0.218379               0.370227   \n107    Wine                 [7, 400, 15]  0.358678               0.370227   \n\n     Silhouette Score  Execution Time  \n0            0.629468        0.054856  \n1            0.629468        0.019947  \n2            0.629468        0.071807  \n3            0.629468        0.013963  \n4            0.629468        0.019948  \n..                ...             ...  \n103          0.298722        0.028924  \n104          0.298722        0.054853  \n105          0.298722        0.053856  \n106          0.298722        0.059839  \n107          0.298722        0.052857  \n\n[108 rows x 6 columns]",
      "text/html": "<div>\n<style scoped>\n    .dataframe tbody tr th:only-of-type {\n        vertical-align: middle;\n    }\n\n    .dataframe tbody tr th {\n        vertical-align: top;\n    }\n\n    .dataframe thead th {\n        text-align: right;\n    }\n</style>\n<table border=\"1\" class=\"dataframe\">\n  <thead>\n    <tr style=\"text-align: right;\">\n      <th></th>\n      <th>Dataset</th>\n      <th>[n_clusters,max_iter,n_init]</th>\n      <th>f1 score</th>\n      <th>Adjusted Random Score</th>\n      <th>Silhouette Score</th>\n      <th>Execution Time</th>\n    </tr>\n  </thead>\n  <tbody>\n    <tr>\n      <th>0</th>\n      <td>Iris</td>\n      <td>[2, 200, 5]</td>\n      <td>0.000000</td>\n      <td>0.568116</td>\n      <td>0.629468</td>\n      <td>0.054856</td>\n    </tr>\n    <tr>\n      <th>1</th>\n      <td>Iris</td>\n      <td>[2, 200, 10]</td>\n      <td>0.000000</td>\n      <td>0.568116</td>\n      <td>0.629468</td>\n      <td>0.019947</td>\n    </tr>\n    <tr>\n      <th>2</th>\n      <td>Iris</td>\n      <td>[2, 200, 15]</td>\n      <td>0.555556</td>\n      <td>0.568116</td>\n      <td>0.629468</td>\n      <td>0.071807</td>\n    </tr>\n    <tr>\n      <th>3</th>\n      <td>Iris</td>\n      <td>[2, 300, 5]</td>\n      <td>0.555556</td>\n      <td>0.568116</td>\n      <td>0.629468</td>\n      <td>0.013963</td>\n    </tr>\n    <tr>\n      <th>4</th>\n      <td>Iris</td>\n      <td>[2, 300, 10]</td>\n      <td>0.000000</td>\n      <td>0.568116</td>\n      <td>0.629468</td>\n      <td>0.019948</td>\n    </tr>\n    <tr>\n      <th>...</th>\n      <td>...</td>\n      <td>...</td>\n      <td>...</td>\n      <td>...</td>\n      <td>...</td>\n      <td>...</td>\n    </tr>\n    <tr>\n      <th>103</th>\n      <td>Wine</td>\n      <td>[7, 300, 10]</td>\n      <td>0.218379</td>\n      <td>0.370227</td>\n      <td>0.298722</td>\n      <td>0.028924</td>\n    </tr>\n    <tr>\n      <th>104</th>\n      <td>Wine</td>\n      <td>[7, 300, 15]</td>\n      <td>0.218379</td>\n      <td>0.370227</td>\n      <td>0.298722</td>\n      <td>0.054853</td>\n    </tr>\n    <tr>\n      <th>105</th>\n      <td>Wine</td>\n      <td>[7, 400, 5]</td>\n      <td>0.218379</td>\n      <td>0.370227</td>\n      <td>0.298722</td>\n      <td>0.053856</td>\n    </tr>\n    <tr>\n      <th>106</th>\n      <td>Wine</td>\n      <td>[7, 400, 10]</td>\n      <td>0.218379</td>\n      <td>0.370227</td>\n      <td>0.298722</td>\n      <td>0.059839</td>\n    </tr>\n    <tr>\n      <th>107</th>\n      <td>Wine</td>\n      <td>[7, 400, 15]</td>\n      <td>0.358678</td>\n      <td>0.370227</td>\n      <td>0.298722</td>\n      <td>0.052857</td>\n    </tr>\n  </tbody>\n</table>\n<p>108 rows × 6 columns</p>\n</div>"
     },
     "execution_count": 14,
     "metadata": {},
     "output_type": "execute_result"
    }
   ],
   "source": [
    "for i in range(0, len(kmean_parameters)):\n",
    "    final_kmeans_df =final_kmeans_df.append({\n",
    "        \"Dataset\":Dataset[0],\n",
    "        \"[n_clusters,max_iter,n_init]\":kmean_parameters.iloc[i].to_list(),\n",
    "        \"f1 score\":final_iris_kmeans[i][1],\n",
    "        \"Adjusted Random Score\":final_iris_kmeans[i][2],\n",
    "        \"Silhouette Score\":final_iris_kmeans[i][3],\n",
    "        \"Execution Time\":final_iris_kmeans[i][4],\n",
    "        },ignore_index=True)\n",
    "    \n",
    "for i in range(0, len(kmean_parameters)):\n",
    "    final_kmeans_df =final_kmeans_df.append({\n",
    "        \"Dataset\":Dataset[0],\n",
    "        \"[n_clusters,max_iter,n_init]\":kmean_parameters.iloc[i].to_list(),\n",
    "        \"f1 score\":final_wine_kmeans[i][1],\n",
    "        \"Adjusted Random Score\":final_wine_kmeans[i][2],\n",
    "        \"Silhouette Score\":final_wine_kmeans[i][3],\n",
    "        \"Execution Time\":final_wine_kmeans[i][4],\n",
    "        \"Dataset\":Dataset[1]\n",
    "        },ignore_index=True)\n",
    "    \n",
    "final_kmeans_df"
   ]
  },
  {
   "cell_type": "markdown",
   "metadata": {},
   "source": [
    "# Agglomerative Clustering"
   ]
  },
  {
   "cell_type": "code",
   "execution_count": 15,
   "metadata": {},
   "outputs": [
    {
     "data": {
      "text/plain": "    n_clusters   linkage\n0            2      ward\n1            2  complete\n2            2   average\n3            2    single\n4            3      ward\n5            3  complete\n6            3   average\n7            3    single\n8            4      ward\n9            4  complete\n10           4   average\n11           4    single\n12           5      ward\n13           5  complete\n14           5   average\n15           5    single\n16           6      ward\n17           6  complete\n18           6   average\n19           6    single\n20           7      ward\n21           7  complete\n22           7   average\n23           7    single",
      "text/html": "<div>\n<style scoped>\n    .dataframe tbody tr th:only-of-type {\n        vertical-align: middle;\n    }\n\n    .dataframe tbody tr th {\n        vertical-align: top;\n    }\n\n    .dataframe thead th {\n        text-align: right;\n    }\n</style>\n<table border=\"1\" class=\"dataframe\">\n  <thead>\n    <tr style=\"text-align: right;\">\n      <th></th>\n      <th>n_clusters</th>\n      <th>linkage</th>\n    </tr>\n  </thead>\n  <tbody>\n    <tr>\n      <th>0</th>\n      <td>2</td>\n      <td>ward</td>\n    </tr>\n    <tr>\n      <th>1</th>\n      <td>2</td>\n      <td>complete</td>\n    </tr>\n    <tr>\n      <th>2</th>\n      <td>2</td>\n      <td>average</td>\n    </tr>\n    <tr>\n      <th>3</th>\n      <td>2</td>\n      <td>single</td>\n    </tr>\n    <tr>\n      <th>4</th>\n      <td>3</td>\n      <td>ward</td>\n    </tr>\n    <tr>\n      <th>5</th>\n      <td>3</td>\n      <td>complete</td>\n    </tr>\n    <tr>\n      <th>6</th>\n      <td>3</td>\n      <td>average</td>\n    </tr>\n    <tr>\n      <th>7</th>\n      <td>3</td>\n      <td>single</td>\n    </tr>\n    <tr>\n      <th>8</th>\n      <td>4</td>\n      <td>ward</td>\n    </tr>\n    <tr>\n      <th>9</th>\n      <td>4</td>\n      <td>complete</td>\n    </tr>\n    <tr>\n      <th>10</th>\n      <td>4</td>\n      <td>average</td>\n    </tr>\n    <tr>\n      <th>11</th>\n      <td>4</td>\n      <td>single</td>\n    </tr>\n    <tr>\n      <th>12</th>\n      <td>5</td>\n      <td>ward</td>\n    </tr>\n    <tr>\n      <th>13</th>\n      <td>5</td>\n      <td>complete</td>\n    </tr>\n    <tr>\n      <th>14</th>\n      <td>5</td>\n      <td>average</td>\n    </tr>\n    <tr>\n      <th>15</th>\n      <td>5</td>\n      <td>single</td>\n    </tr>\n    <tr>\n      <th>16</th>\n      <td>6</td>\n      <td>ward</td>\n    </tr>\n    <tr>\n      <th>17</th>\n      <td>6</td>\n      <td>complete</td>\n    </tr>\n    <tr>\n      <th>18</th>\n      <td>6</td>\n      <td>average</td>\n    </tr>\n    <tr>\n      <th>19</th>\n      <td>6</td>\n      <td>single</td>\n    </tr>\n    <tr>\n      <th>20</th>\n      <td>7</td>\n      <td>ward</td>\n    </tr>\n    <tr>\n      <th>21</th>\n      <td>7</td>\n      <td>complete</td>\n    </tr>\n    <tr>\n      <th>22</th>\n      <td>7</td>\n      <td>average</td>\n    </tr>\n    <tr>\n      <th>23</th>\n      <td>7</td>\n      <td>single</td>\n    </tr>\n  </tbody>\n</table>\n</div>"
     },
     "execution_count": 15,
     "metadata": {},
     "output_type": "execute_result"
    }
   ],
   "source": [
    "n_clusters =[2,3,4,5,6,7]\n",
    "linkage = [\"ward\", \"complete\", \"average\", \"single\"]\n",
    "\n",
    "agglomerative_parameters = pd.DataFrame({\n",
    "    \"n_clusters\":[] ,\n",
    "    \"linkage\":[]}).astype(int)\n",
    "  \n",
    "for i in n_clusters:\n",
    "        for  n in linkage:\n",
    "                agglomerative_parameters = agglomerative_parameters.append({\n",
    "                    \"n_clusters\" : i, \n",
    "                    \"linkage\" : n },\n",
    "                    ignore_index=True)\n",
    "                \n",
    "agglomerative_parameters"
   ]
  },
  {
   "cell_type": "code",
   "execution_count": 16,
   "metadata": {},
   "outputs": [],
   "source": [
    "agglomerative= AgglomerativeClustering(n_clusters = agglomerative_parameters.iloc[0][0], linkage = agglomerative_parameters.iloc[0][1])"
   ]
  },
  {
   "cell_type": "code",
   "execution_count": 17,
   "metadata": {},
   "outputs": [],
   "source": [
    "final_iris_aggromilative = Parallel(n_jobs=-1)(delayed(algo)(iris_x_scaled, iris_y, agglomerative, agglomerative_parameters.iloc[i]) for i in range(0, len(agglomerative_parameters)))\n",
    "final_wine_aggromilative = Parallel(n_jobs=-1)(delayed(algo)(wine_x_scaled, wine_y, agglomerative,  agglomerative_parameters.iloc[i]) for i in range(0, len(agglomerative_parameters)))"
   ]
  },
  {
   "cell_type": "code",
   "execution_count": 18,
   "metadata": {},
   "outputs": [],
   "source": [
    "final_aggromilative_df=pd.DataFrame({\n",
    "    \"Dataset\":[],\n",
    "    \"[n_clusters,linkage]\":[],\n",
    "    \"f1 score\":[],\n",
    "    \"Adjusted Random Score\":[],\n",
    "    \"Silhouette Score\":[],\n",
    "    \"Execution Time\":[],\n",
    "})"
   ]
  },
  {
   "cell_type": "code",
   "execution_count": 19,
   "metadata": {},
   "outputs": [
    {
     "data": {
      "text/plain": "   Dataset [n_clusters,linkage]  f1 score  Adjusted Random Score  \\\n0     Iris            [2, ward]       0.0               0.568116   \n1     Iris        [2, complete]       0.0               0.568116   \n2     Iris         [2, average]       0.0               0.568116   \n3     Iris          [2, single]       0.0               0.568116   \n4     Iris            [3, ward]       0.0               0.568116   \n5     Iris        [3, complete]       0.0               0.568116   \n6     Iris         [3, average]       0.0               0.568116   \n7     Iris          [3, single]       0.0               0.568116   \n8     Iris            [4, ward]       0.0               0.568116   \n9     Iris        [4, complete]       0.0               0.568116   \n10    Iris         [4, average]       0.0               0.568116   \n11    Iris          [4, single]       0.0               0.568116   \n12    Iris            [5, ward]       0.0               0.568116   \n13    Iris        [5, complete]       0.0               0.568116   \n14    Iris         [5, average]       0.0               0.568116   \n15    Iris          [5, single]       0.0               0.568116   \n16    Iris            [6, ward]       0.0               0.568116   \n17    Iris        [6, complete]       0.0               0.568116   \n18    Iris         [6, average]       0.0               0.568116   \n19    Iris          [6, single]       0.0               0.568116   \n20    Iris            [7, ward]       0.0               0.568116   \n21    Iris        [7, complete]       0.0               0.568116   \n22    Iris         [7, average]       0.0               0.568116   \n23    Iris          [7, single]       0.0               0.568116   \n24    Wine            [2, ward]       0.0               0.568116   \n25    Wine        [2, complete]       0.0               0.568116   \n26    Wine         [2, average]       0.0               0.568116   \n27    Wine          [2, single]       0.0               0.568116   \n28    Wine            [3, ward]       0.0               0.568116   \n29    Wine        [3, complete]       0.0               0.568116   \n30    Wine         [3, average]       0.0               0.568116   \n31    Wine          [3, single]       0.0               0.568116   \n32    Wine            [4, ward]       0.0               0.568116   \n33    Wine        [4, complete]       0.0               0.568116   \n34    Wine         [4, average]       0.0               0.568116   \n35    Wine          [4, single]       0.0               0.568116   \n36    Wine            [5, ward]       0.0               0.568116   \n37    Wine        [5, complete]       0.0               0.568116   \n38    Wine         [5, average]       0.0               0.568116   \n39    Wine          [5, single]       0.0               0.568116   \n40    Wine            [6, ward]       0.0               0.568116   \n41    Wine        [6, complete]       0.0               0.568116   \n42    Wine         [6, average]       0.0               0.568116   \n43    Wine          [6, single]       0.0               0.568116   \n44    Wine            [7, ward]       0.0               0.568116   \n45    Wine        [7, complete]       0.0               0.568116   \n46    Wine         [7, average]       0.0               0.568116   \n47    Wine          [7, single]       0.0               0.568116   \n\n    Silhouette Score  Execution Time  \n0           0.629468        0.138631  \n1           0.629468        0.137634  \n2           0.629468        0.141625  \n3           0.629468        0.128656  \n4           0.629468        0.009974  \n5           0.629468        0.008976  \n6           0.629468        0.006983  \n7           0.629468        0.011968  \n8           0.629468        0.008975  \n9           0.629468        0.008979  \n10          0.629468        0.007977  \n11          0.629468        0.008978  \n12          0.629468        0.007979  \n13          0.629468        0.012967  \n14          0.629468        0.005982  \n15          0.629468        0.007980  \n16          0.629468        0.007979  \n17          0.629468        0.012965  \n18          0.629468        0.005984  \n19          0.629468        0.007979  \n20          0.629468        0.009974  \n21          0.629468        0.012966  \n22          0.629468        0.006981  \n23          0.629468        0.007979  \n24          0.629468        0.138631  \n25          0.629468        0.137634  \n26          0.629468        0.141625  \n27          0.629468        0.128656  \n28          0.629468        0.009974  \n29          0.629468        0.008976  \n30          0.629468        0.006983  \n31          0.629468        0.011968  \n32          0.629468        0.008975  \n33          0.629468        0.008979  \n34          0.629468        0.007977  \n35          0.629468        0.008978  \n36          0.629468        0.007979  \n37          0.629468        0.012967  \n38          0.629468        0.005982  \n39          0.629468        0.007980  \n40          0.629468        0.007979  \n41          0.629468        0.012965  \n42          0.629468        0.005984  \n43          0.629468        0.007979  \n44          0.629468        0.009974  \n45          0.629468        0.012966  \n46          0.629468        0.006981  \n47          0.629468        0.007979  ",
      "text/html": "<div>\n<style scoped>\n    .dataframe tbody tr th:only-of-type {\n        vertical-align: middle;\n    }\n\n    .dataframe tbody tr th {\n        vertical-align: top;\n    }\n\n    .dataframe thead th {\n        text-align: right;\n    }\n</style>\n<table border=\"1\" class=\"dataframe\">\n  <thead>\n    <tr style=\"text-align: right;\">\n      <th></th>\n      <th>Dataset</th>\n      <th>[n_clusters,linkage]</th>\n      <th>f1 score</th>\n      <th>Adjusted Random Score</th>\n      <th>Silhouette Score</th>\n      <th>Execution Time</th>\n    </tr>\n  </thead>\n  <tbody>\n    <tr>\n      <th>0</th>\n      <td>Iris</td>\n      <td>[2, ward]</td>\n      <td>0.0</td>\n      <td>0.568116</td>\n      <td>0.629468</td>\n      <td>0.138631</td>\n    </tr>\n    <tr>\n      <th>1</th>\n      <td>Iris</td>\n      <td>[2, complete]</td>\n      <td>0.0</td>\n      <td>0.568116</td>\n      <td>0.629468</td>\n      <td>0.137634</td>\n    </tr>\n    <tr>\n      <th>2</th>\n      <td>Iris</td>\n      <td>[2, average]</td>\n      <td>0.0</td>\n      <td>0.568116</td>\n      <td>0.629468</td>\n      <td>0.141625</td>\n    </tr>\n    <tr>\n      <th>3</th>\n      <td>Iris</td>\n      <td>[2, single]</td>\n      <td>0.0</td>\n      <td>0.568116</td>\n      <td>0.629468</td>\n      <td>0.128656</td>\n    </tr>\n    <tr>\n      <th>4</th>\n      <td>Iris</td>\n      <td>[3, ward]</td>\n      <td>0.0</td>\n      <td>0.568116</td>\n      <td>0.629468</td>\n      <td>0.009974</td>\n    </tr>\n    <tr>\n      <th>5</th>\n      <td>Iris</td>\n      <td>[3, complete]</td>\n      <td>0.0</td>\n      <td>0.568116</td>\n      <td>0.629468</td>\n      <td>0.008976</td>\n    </tr>\n    <tr>\n      <th>6</th>\n      <td>Iris</td>\n      <td>[3, average]</td>\n      <td>0.0</td>\n      <td>0.568116</td>\n      <td>0.629468</td>\n      <td>0.006983</td>\n    </tr>\n    <tr>\n      <th>7</th>\n      <td>Iris</td>\n      <td>[3, single]</td>\n      <td>0.0</td>\n      <td>0.568116</td>\n      <td>0.629468</td>\n      <td>0.011968</td>\n    </tr>\n    <tr>\n      <th>8</th>\n      <td>Iris</td>\n      <td>[4, ward]</td>\n      <td>0.0</td>\n      <td>0.568116</td>\n      <td>0.629468</td>\n      <td>0.008975</td>\n    </tr>\n    <tr>\n      <th>9</th>\n      <td>Iris</td>\n      <td>[4, complete]</td>\n      <td>0.0</td>\n      <td>0.568116</td>\n      <td>0.629468</td>\n      <td>0.008979</td>\n    </tr>\n    <tr>\n      <th>10</th>\n      <td>Iris</td>\n      <td>[4, average]</td>\n      <td>0.0</td>\n      <td>0.568116</td>\n      <td>0.629468</td>\n      <td>0.007977</td>\n    </tr>\n    <tr>\n      <th>11</th>\n      <td>Iris</td>\n      <td>[4, single]</td>\n      <td>0.0</td>\n      <td>0.568116</td>\n      <td>0.629468</td>\n      <td>0.008978</td>\n    </tr>\n    <tr>\n      <th>12</th>\n      <td>Iris</td>\n      <td>[5, ward]</td>\n      <td>0.0</td>\n      <td>0.568116</td>\n      <td>0.629468</td>\n      <td>0.007979</td>\n    </tr>\n    <tr>\n      <th>13</th>\n      <td>Iris</td>\n      <td>[5, complete]</td>\n      <td>0.0</td>\n      <td>0.568116</td>\n      <td>0.629468</td>\n      <td>0.012967</td>\n    </tr>\n    <tr>\n      <th>14</th>\n      <td>Iris</td>\n      <td>[5, average]</td>\n      <td>0.0</td>\n      <td>0.568116</td>\n      <td>0.629468</td>\n      <td>0.005982</td>\n    </tr>\n    <tr>\n      <th>15</th>\n      <td>Iris</td>\n      <td>[5, single]</td>\n      <td>0.0</td>\n      <td>0.568116</td>\n      <td>0.629468</td>\n      <td>0.007980</td>\n    </tr>\n    <tr>\n      <th>16</th>\n      <td>Iris</td>\n      <td>[6, ward]</td>\n      <td>0.0</td>\n      <td>0.568116</td>\n      <td>0.629468</td>\n      <td>0.007979</td>\n    </tr>\n    <tr>\n      <th>17</th>\n      <td>Iris</td>\n      <td>[6, complete]</td>\n      <td>0.0</td>\n      <td>0.568116</td>\n      <td>0.629468</td>\n      <td>0.012965</td>\n    </tr>\n    <tr>\n      <th>18</th>\n      <td>Iris</td>\n      <td>[6, average]</td>\n      <td>0.0</td>\n      <td>0.568116</td>\n      <td>0.629468</td>\n      <td>0.005984</td>\n    </tr>\n    <tr>\n      <th>19</th>\n      <td>Iris</td>\n      <td>[6, single]</td>\n      <td>0.0</td>\n      <td>0.568116</td>\n      <td>0.629468</td>\n      <td>0.007979</td>\n    </tr>\n    <tr>\n      <th>20</th>\n      <td>Iris</td>\n      <td>[7, ward]</td>\n      <td>0.0</td>\n      <td>0.568116</td>\n      <td>0.629468</td>\n      <td>0.009974</td>\n    </tr>\n    <tr>\n      <th>21</th>\n      <td>Iris</td>\n      <td>[7, complete]</td>\n      <td>0.0</td>\n      <td>0.568116</td>\n      <td>0.629468</td>\n      <td>0.012966</td>\n    </tr>\n    <tr>\n      <th>22</th>\n      <td>Iris</td>\n      <td>[7, average]</td>\n      <td>0.0</td>\n      <td>0.568116</td>\n      <td>0.629468</td>\n      <td>0.006981</td>\n    </tr>\n    <tr>\n      <th>23</th>\n      <td>Iris</td>\n      <td>[7, single]</td>\n      <td>0.0</td>\n      <td>0.568116</td>\n      <td>0.629468</td>\n      <td>0.007979</td>\n    </tr>\n    <tr>\n      <th>24</th>\n      <td>Wine</td>\n      <td>[2, ward]</td>\n      <td>0.0</td>\n      <td>0.568116</td>\n      <td>0.629468</td>\n      <td>0.138631</td>\n    </tr>\n    <tr>\n      <th>25</th>\n      <td>Wine</td>\n      <td>[2, complete]</td>\n      <td>0.0</td>\n      <td>0.568116</td>\n      <td>0.629468</td>\n      <td>0.137634</td>\n    </tr>\n    <tr>\n      <th>26</th>\n      <td>Wine</td>\n      <td>[2, average]</td>\n      <td>0.0</td>\n      <td>0.568116</td>\n      <td>0.629468</td>\n      <td>0.141625</td>\n    </tr>\n    <tr>\n      <th>27</th>\n      <td>Wine</td>\n      <td>[2, single]</td>\n      <td>0.0</td>\n      <td>0.568116</td>\n      <td>0.629468</td>\n      <td>0.128656</td>\n    </tr>\n    <tr>\n      <th>28</th>\n      <td>Wine</td>\n      <td>[3, ward]</td>\n      <td>0.0</td>\n      <td>0.568116</td>\n      <td>0.629468</td>\n      <td>0.009974</td>\n    </tr>\n    <tr>\n      <th>29</th>\n      <td>Wine</td>\n      <td>[3, complete]</td>\n      <td>0.0</td>\n      <td>0.568116</td>\n      <td>0.629468</td>\n      <td>0.008976</td>\n    </tr>\n    <tr>\n      <th>30</th>\n      <td>Wine</td>\n      <td>[3, average]</td>\n      <td>0.0</td>\n      <td>0.568116</td>\n      <td>0.629468</td>\n      <td>0.006983</td>\n    </tr>\n    <tr>\n      <th>31</th>\n      <td>Wine</td>\n      <td>[3, single]</td>\n      <td>0.0</td>\n      <td>0.568116</td>\n      <td>0.629468</td>\n      <td>0.011968</td>\n    </tr>\n    <tr>\n      <th>32</th>\n      <td>Wine</td>\n      <td>[4, ward]</td>\n      <td>0.0</td>\n      <td>0.568116</td>\n      <td>0.629468</td>\n      <td>0.008975</td>\n    </tr>\n    <tr>\n      <th>33</th>\n      <td>Wine</td>\n      <td>[4, complete]</td>\n      <td>0.0</td>\n      <td>0.568116</td>\n      <td>0.629468</td>\n      <td>0.008979</td>\n    </tr>\n    <tr>\n      <th>34</th>\n      <td>Wine</td>\n      <td>[4, average]</td>\n      <td>0.0</td>\n      <td>0.568116</td>\n      <td>0.629468</td>\n      <td>0.007977</td>\n    </tr>\n    <tr>\n      <th>35</th>\n      <td>Wine</td>\n      <td>[4, single]</td>\n      <td>0.0</td>\n      <td>0.568116</td>\n      <td>0.629468</td>\n      <td>0.008978</td>\n    </tr>\n    <tr>\n      <th>36</th>\n      <td>Wine</td>\n      <td>[5, ward]</td>\n      <td>0.0</td>\n      <td>0.568116</td>\n      <td>0.629468</td>\n      <td>0.007979</td>\n    </tr>\n    <tr>\n      <th>37</th>\n      <td>Wine</td>\n      <td>[5, complete]</td>\n      <td>0.0</td>\n      <td>0.568116</td>\n      <td>0.629468</td>\n      <td>0.012967</td>\n    </tr>\n    <tr>\n      <th>38</th>\n      <td>Wine</td>\n      <td>[5, average]</td>\n      <td>0.0</td>\n      <td>0.568116</td>\n      <td>0.629468</td>\n      <td>0.005982</td>\n    </tr>\n    <tr>\n      <th>39</th>\n      <td>Wine</td>\n      <td>[5, single]</td>\n      <td>0.0</td>\n      <td>0.568116</td>\n      <td>0.629468</td>\n      <td>0.007980</td>\n    </tr>\n    <tr>\n      <th>40</th>\n      <td>Wine</td>\n      <td>[6, ward]</td>\n      <td>0.0</td>\n      <td>0.568116</td>\n      <td>0.629468</td>\n      <td>0.007979</td>\n    </tr>\n    <tr>\n      <th>41</th>\n      <td>Wine</td>\n      <td>[6, complete]</td>\n      <td>0.0</td>\n      <td>0.568116</td>\n      <td>0.629468</td>\n      <td>0.012965</td>\n    </tr>\n    <tr>\n      <th>42</th>\n      <td>Wine</td>\n      <td>[6, average]</td>\n      <td>0.0</td>\n      <td>0.568116</td>\n      <td>0.629468</td>\n      <td>0.005984</td>\n    </tr>\n    <tr>\n      <th>43</th>\n      <td>Wine</td>\n      <td>[6, single]</td>\n      <td>0.0</td>\n      <td>0.568116</td>\n      <td>0.629468</td>\n      <td>0.007979</td>\n    </tr>\n    <tr>\n      <th>44</th>\n      <td>Wine</td>\n      <td>[7, ward]</td>\n      <td>0.0</td>\n      <td>0.568116</td>\n      <td>0.629468</td>\n      <td>0.009974</td>\n    </tr>\n    <tr>\n      <th>45</th>\n      <td>Wine</td>\n      <td>[7, complete]</td>\n      <td>0.0</td>\n      <td>0.568116</td>\n      <td>0.629468</td>\n      <td>0.012966</td>\n    </tr>\n    <tr>\n      <th>46</th>\n      <td>Wine</td>\n      <td>[7, average]</td>\n      <td>0.0</td>\n      <td>0.568116</td>\n      <td>0.629468</td>\n      <td>0.006981</td>\n    </tr>\n    <tr>\n      <th>47</th>\n      <td>Wine</td>\n      <td>[7, single]</td>\n      <td>0.0</td>\n      <td>0.568116</td>\n      <td>0.629468</td>\n      <td>0.007979</td>\n    </tr>\n  </tbody>\n</table>\n</div>"
     },
     "execution_count": 19,
     "metadata": {},
     "output_type": "execute_result"
    }
   ],
   "source": [
    "for i in range(0, len(agglomerative_parameters)):\n",
    "    final_aggromilative_df =final_aggromilative_df.append({\n",
    "        \"Dataset\":Dataset[0],\n",
    "        \"[n_clusters,linkage]\":agglomerative_parameters.iloc[i].to_list(),\n",
    "        \"f1 score\":final_iris_aggromilative[i][1],\n",
    "        \"Adjusted Random Score\":final_iris_aggromilative[i][2],\n",
    "        \"Silhouette Score\":final_iris_aggromilative[i][3],\n",
    "        \"Execution Time\":final_iris_aggromilative[i][4],\n",
    "        },ignore_index=True)\n",
    "    \n",
    "for i in range(0, len(agglomerative_parameters)):\n",
    "    final_aggromilative_df =final_aggromilative_df.append({\n",
    "        \"Dataset\":Dataset[1],\n",
    "        \"[n_clusters,linkage]\":agglomerative_parameters.iloc[i].to_list(),\n",
    "        \"f1 score\":final_iris_aggromilative[i][1],\n",
    "        \"Adjusted Random Score\":final_iris_aggromilative[i][2],\n",
    "        \"Silhouette Score\":final_iris_aggromilative[i][3],\n",
    "        \"Execution Time\":final_iris_aggromilative[i][4],\n",
    "        },ignore_index=True)\n",
    "    \n",
    "final_aggromilative_df"
   ]
  },
  {
   "cell_type": "markdown",
   "metadata": {},
   "source": [
    "# DBScan Clustering"
   ]
  },
  {
   "cell_type": "code",
   "execution_count": 20,
   "metadata": {},
   "outputs": [],
   "source": [
    "# def dbscan (x, y, parameters):\n",
    "#     start_time = time.time()\n",
    "#     dbscan= DBSCAN(eps = parameters[0], min_samples = parameters[1])\n",
    "#     y_dbscan = dbscan.fit_predict(x)\n",
    "#     dbscan_f1score = f1_score(y, y_dbscan, average = \"weighted\")\n",
    "#     dbscan_ars = adjusted_rand_score(y, y_dbscan)\n",
    "#     dbscan_n_clusters = len(set(y_dbscan)) - (1 if -1 in y_dbscan else 0)\n",
    "#     if dbscan_n_clusters>=2:\n",
    "#         dbscan_sscore = silhouette_score(x, y_dbscan, metric=\"euclidean\")\n",
    "#     else:\n",
    "#         dbscan_sscore = print(\"111\")\n",
    "#     dbscan_execution_time = time.time() - start_time\n",
    "#     return y_dbscan, dbscan_f1score,dbscan_ars,dbscan_sscore, dbscan_execution_time"
   ]
  },
  {
   "cell_type": "code",
   "execution_count": 21,
   "metadata": {},
   "outputs": [
    {
     "data": {
      "text/plain": "    eps  min_samples\n0   0.1          2.0\n1   0.1          3.0\n2   0.1          4.0\n3   0.1          5.0\n4   0.1          6.0\n5   0.1          7.0\n6   0.1          8.0\n7   0.2          2.0\n8   0.2          3.0\n9   0.2          4.0\n10  0.2          5.0\n11  0.2          6.0\n12  0.2          7.0\n13  0.2          8.0\n14  0.3          2.0\n15  0.3          3.0\n16  0.3          4.0\n17  0.3          5.0\n18  0.3          6.0\n19  0.3          7.0\n20  0.3          8.0\n21  0.4          2.0\n22  0.4          3.0\n23  0.4          4.0\n24  0.4          5.0\n25  0.4          6.0\n26  0.4          7.0\n27  0.4          8.0\n28  0.5          2.0\n29  0.5          3.0\n30  0.5          4.0\n31  0.5          5.0\n32  0.5          6.0\n33  0.5          7.0\n34  0.5          8.0",
      "text/html": "<div>\n<style scoped>\n    .dataframe tbody tr th:only-of-type {\n        vertical-align: middle;\n    }\n\n    .dataframe tbody tr th {\n        vertical-align: top;\n    }\n\n    .dataframe thead th {\n        text-align: right;\n    }\n</style>\n<table border=\"1\" class=\"dataframe\">\n  <thead>\n    <tr style=\"text-align: right;\">\n      <th></th>\n      <th>eps</th>\n      <th>min_samples</th>\n    </tr>\n  </thead>\n  <tbody>\n    <tr>\n      <th>0</th>\n      <td>0.1</td>\n      <td>2.0</td>\n    </tr>\n    <tr>\n      <th>1</th>\n      <td>0.1</td>\n      <td>3.0</td>\n    </tr>\n    <tr>\n      <th>2</th>\n      <td>0.1</td>\n      <td>4.0</td>\n    </tr>\n    <tr>\n      <th>3</th>\n      <td>0.1</td>\n      <td>5.0</td>\n    </tr>\n    <tr>\n      <th>4</th>\n      <td>0.1</td>\n      <td>6.0</td>\n    </tr>\n    <tr>\n      <th>5</th>\n      <td>0.1</td>\n      <td>7.0</td>\n    </tr>\n    <tr>\n      <th>6</th>\n      <td>0.1</td>\n      <td>8.0</td>\n    </tr>\n    <tr>\n      <th>7</th>\n      <td>0.2</td>\n      <td>2.0</td>\n    </tr>\n    <tr>\n      <th>8</th>\n      <td>0.2</td>\n      <td>3.0</td>\n    </tr>\n    <tr>\n      <th>9</th>\n      <td>0.2</td>\n      <td>4.0</td>\n    </tr>\n    <tr>\n      <th>10</th>\n      <td>0.2</td>\n      <td>5.0</td>\n    </tr>\n    <tr>\n      <th>11</th>\n      <td>0.2</td>\n      <td>6.0</td>\n    </tr>\n    <tr>\n      <th>12</th>\n      <td>0.2</td>\n      <td>7.0</td>\n    </tr>\n    <tr>\n      <th>13</th>\n      <td>0.2</td>\n      <td>8.0</td>\n    </tr>\n    <tr>\n      <th>14</th>\n      <td>0.3</td>\n      <td>2.0</td>\n    </tr>\n    <tr>\n      <th>15</th>\n      <td>0.3</td>\n      <td>3.0</td>\n    </tr>\n    <tr>\n      <th>16</th>\n      <td>0.3</td>\n      <td>4.0</td>\n    </tr>\n    <tr>\n      <th>17</th>\n      <td>0.3</td>\n      <td>5.0</td>\n    </tr>\n    <tr>\n      <th>18</th>\n      <td>0.3</td>\n      <td>6.0</td>\n    </tr>\n    <tr>\n      <th>19</th>\n      <td>0.3</td>\n      <td>7.0</td>\n    </tr>\n    <tr>\n      <th>20</th>\n      <td>0.3</td>\n      <td>8.0</td>\n    </tr>\n    <tr>\n      <th>21</th>\n      <td>0.4</td>\n      <td>2.0</td>\n    </tr>\n    <tr>\n      <th>22</th>\n      <td>0.4</td>\n      <td>3.0</td>\n    </tr>\n    <tr>\n      <th>23</th>\n      <td>0.4</td>\n      <td>4.0</td>\n    </tr>\n    <tr>\n      <th>24</th>\n      <td>0.4</td>\n      <td>5.0</td>\n    </tr>\n    <tr>\n      <th>25</th>\n      <td>0.4</td>\n      <td>6.0</td>\n    </tr>\n    <tr>\n      <th>26</th>\n      <td>0.4</td>\n      <td>7.0</td>\n    </tr>\n    <tr>\n      <th>27</th>\n      <td>0.4</td>\n      <td>8.0</td>\n    </tr>\n    <tr>\n      <th>28</th>\n      <td>0.5</td>\n      <td>2.0</td>\n    </tr>\n    <tr>\n      <th>29</th>\n      <td>0.5</td>\n      <td>3.0</td>\n    </tr>\n    <tr>\n      <th>30</th>\n      <td>0.5</td>\n      <td>4.0</td>\n    </tr>\n    <tr>\n      <th>31</th>\n      <td>0.5</td>\n      <td>5.0</td>\n    </tr>\n    <tr>\n      <th>32</th>\n      <td>0.5</td>\n      <td>6.0</td>\n    </tr>\n    <tr>\n      <th>33</th>\n      <td>0.5</td>\n      <td>7.0</td>\n    </tr>\n    <tr>\n      <th>34</th>\n      <td>0.5</td>\n      <td>8.0</td>\n    </tr>\n  </tbody>\n</table>\n</div>"
     },
     "execution_count": 21,
     "metadata": {},
     "output_type": "execute_result"
    }
   ],
   "source": [
    "eps = [0.1,0.2,0.3,0.4,0.5]\n",
    "min_samples = [2,3,4,5,6,7,8]\n",
    "\n",
    "dbscan_parameters = pd.DataFrame({\n",
    "    \"eps\":[],\n",
    "    \"min_samples\" :[]\n",
    "}).astype(int)\n",
    "\n",
    "for i in eps:\n",
    "    for n in min_samples:\n",
    "        dbscan_parameters=dbscan_parameters.append({\n",
    "            \"eps\" : i,\n",
    "            \"min_samples\": n\n",
    "        },ignore_index=True)\n",
    "        \n",
    "dbscan_parameters"
   ]
  },
  {
   "cell_type": "code",
   "execution_count": 22,
   "metadata": {},
   "outputs": [],
   "source": [
    "dbscan= DBSCAN(eps = dbscan_parameters.iloc[0][0], min_samples = dbscan_parameters.iloc[0][1])"
   ]
  },
  {
   "cell_type": "code",
   "execution_count": 23,
   "metadata": {},
   "outputs": [],
   "source": [
    "final_iris_dbscan = Parallel(n_jobs=-1)(delayed(algo)(iris_x_scaled, iris_y, dbscan, dbscan_parameters.iloc[i]) for i in range(0, len(dbscan_parameters)))"
   ]
  },
  {
   "cell_type": "code",
   "execution_count": 24,
   "metadata": {},
   "outputs": [],
   "source": [
    "final_dbscan_df=pd.DataFrame({\n",
    "    \"Dataset\":[],\n",
    "    \"[eps,min_samples]\":[],\n",
    "    \"f1 score\":[],\n",
    "    \"Adjusted Random Score\":[],\n",
    "    \"Silhouette Score\":[],\n",
    "    \"Execution Time\":[],\n",
    "})"
   ]
  },
  {
   "cell_type": "code",
   "execution_count": 25,
   "metadata": {},
   "outputs": [],
   "source": [
    "for i in range(0, len(dbscan_parameters)):\n",
    "    final_dbscan_df =final_dbscan_df.append({\n",
    "        \"Dataset\":Dataset[0],\n",
    "        \"[eps,min_samples]\":dbscan_parameters.iloc[i].to_list(),\n",
    "        \"f1 score\":final_iris_dbscan[i][1],\n",
    "        \"Adjusted Random Score\":final_iris_dbscan[i][2],\n",
    "        \"Silhouette Score\":final_iris_dbscan[i][3],\n",
    "        \"Execution Time\":final_iris_dbscan[i][4],\n",
    "        },ignore_index=True)"
   ]
  },
  {
   "cell_type": "code",
   "execution_count": 26,
   "metadata": {},
   "outputs": [
    {
     "data": {
      "text/plain": "   Dataset [eps,min_samples]  f1 score  Adjusted Random Score  \\\n0     Iris        [0.1, 2.0]  0.505427                0.42626   \n1     Iris        [0.1, 3.0]  0.505427                0.42626   \n2     Iris        [0.1, 4.0]  0.505427                0.42626   \n3     Iris        [0.1, 5.0]  0.505427                0.42626   \n4     Iris        [0.1, 6.0]  0.505427                0.42626   \n5     Iris        [0.1, 7.0]  0.505427                0.42626   \n6     Iris        [0.1, 8.0]  0.505427                0.42626   \n7     Iris        [0.2, 2.0]  0.505427                0.42626   \n8     Iris        [0.2, 3.0]  0.505427                0.42626   \n9     Iris        [0.2, 4.0]  0.505427                0.42626   \n10    Iris        [0.2, 5.0]  0.505427                0.42626   \n11    Iris        [0.2, 6.0]  0.505427                0.42626   \n12    Iris        [0.2, 7.0]  0.505427                0.42626   \n13    Iris        [0.2, 8.0]  0.505427                0.42626   \n14    Iris        [0.3, 2.0]  0.505427                0.42626   \n15    Iris        [0.3, 3.0]  0.505427                0.42626   \n16    Iris        [0.3, 4.0]  0.505427                0.42626   \n17    Iris        [0.3, 5.0]  0.505427                0.42626   \n18    Iris        [0.3, 6.0]  0.505427                0.42626   \n19    Iris        [0.3, 7.0]  0.505427                0.42626   \n20    Iris        [0.3, 8.0]  0.505427                0.42626   \n21    Iris        [0.4, 2.0]  0.505427                0.42626   \n22    Iris        [0.4, 3.0]  0.505427                0.42626   \n23    Iris        [0.4, 4.0]  0.505427                0.42626   \n24    Iris        [0.4, 5.0]  0.505427                0.42626   \n25    Iris        [0.4, 6.0]  0.505427                0.42626   \n26    Iris        [0.4, 7.0]  0.505427                0.42626   \n27    Iris        [0.4, 8.0]  0.505427                0.42626   \n28    Iris        [0.5, 2.0]  0.505427                0.42626   \n29    Iris        [0.5, 3.0]  0.505427                0.42626   \n30    Iris        [0.5, 4.0]  0.505427                0.42626   \n31    Iris        [0.5, 5.0]  0.505427                0.42626   \n32    Iris        [0.5, 6.0]  0.505427                0.42626   \n33    Iris        [0.5, 7.0]  0.505427                0.42626   \n34    Iris        [0.5, 8.0]  0.505427                0.42626   \n\n    Silhouette Score  Execution Time  \n0           0.230234        0.057846  \n1           0.230234        0.038896  \n2           0.230234        0.057847  \n3           0.230234        0.013962  \n4           0.230234        0.007980  \n5           0.230234        0.009977  \n6           0.230234        0.006980  \n7           0.230234        0.007978  \n8           0.230234        0.008976  \n9           0.230234        0.006981  \n10          0.230234        0.009974  \n11          0.230234        0.007978  \n12          0.230234        0.016955  \n13          0.230234        0.009974  \n14          0.230234        0.006980  \n15          0.230234        0.014959  \n16          0.230234        0.006982  \n17          0.230234        0.007976  \n18          0.230234        0.010970  \n19          0.230234        0.010972  \n20          0.230234        0.008976  \n21          0.230234        0.009972  \n22          0.230234        0.006979  \n23          0.230234        0.006981  \n24          0.230234        0.007976  \n25          0.230234        0.024931  \n26          0.230234        0.019947  \n27          0.230234        0.006982  \n28          0.230234        0.014960  \n29          0.230234        0.021941  \n30          0.230234        0.008976  \n31          0.230234        0.007978  \n32          0.230234        0.006982  \n33          0.230234        0.006980  \n34          0.230234        0.006980  ",
      "text/html": "<div>\n<style scoped>\n    .dataframe tbody tr th:only-of-type {\n        vertical-align: middle;\n    }\n\n    .dataframe tbody tr th {\n        vertical-align: top;\n    }\n\n    .dataframe thead th {\n        text-align: right;\n    }\n</style>\n<table border=\"1\" class=\"dataframe\">\n  <thead>\n    <tr style=\"text-align: right;\">\n      <th></th>\n      <th>Dataset</th>\n      <th>[eps,min_samples]</th>\n      <th>f1 score</th>\n      <th>Adjusted Random Score</th>\n      <th>Silhouette Score</th>\n      <th>Execution Time</th>\n    </tr>\n  </thead>\n  <tbody>\n    <tr>\n      <th>0</th>\n      <td>Iris</td>\n      <td>[0.1, 2.0]</td>\n      <td>0.505427</td>\n      <td>0.42626</td>\n      <td>0.230234</td>\n      <td>0.057846</td>\n    </tr>\n    <tr>\n      <th>1</th>\n      <td>Iris</td>\n      <td>[0.1, 3.0]</td>\n      <td>0.505427</td>\n      <td>0.42626</td>\n      <td>0.230234</td>\n      <td>0.038896</td>\n    </tr>\n    <tr>\n      <th>2</th>\n      <td>Iris</td>\n      <td>[0.1, 4.0]</td>\n      <td>0.505427</td>\n      <td>0.42626</td>\n      <td>0.230234</td>\n      <td>0.057847</td>\n    </tr>\n    <tr>\n      <th>3</th>\n      <td>Iris</td>\n      <td>[0.1, 5.0]</td>\n      <td>0.505427</td>\n      <td>0.42626</td>\n      <td>0.230234</td>\n      <td>0.013962</td>\n    </tr>\n    <tr>\n      <th>4</th>\n      <td>Iris</td>\n      <td>[0.1, 6.0]</td>\n      <td>0.505427</td>\n      <td>0.42626</td>\n      <td>0.230234</td>\n      <td>0.007980</td>\n    </tr>\n    <tr>\n      <th>5</th>\n      <td>Iris</td>\n      <td>[0.1, 7.0]</td>\n      <td>0.505427</td>\n      <td>0.42626</td>\n      <td>0.230234</td>\n      <td>0.009977</td>\n    </tr>\n    <tr>\n      <th>6</th>\n      <td>Iris</td>\n      <td>[0.1, 8.0]</td>\n      <td>0.505427</td>\n      <td>0.42626</td>\n      <td>0.230234</td>\n      <td>0.006980</td>\n    </tr>\n    <tr>\n      <th>7</th>\n      <td>Iris</td>\n      <td>[0.2, 2.0]</td>\n      <td>0.505427</td>\n      <td>0.42626</td>\n      <td>0.230234</td>\n      <td>0.007978</td>\n    </tr>\n    <tr>\n      <th>8</th>\n      <td>Iris</td>\n      <td>[0.2, 3.0]</td>\n      <td>0.505427</td>\n      <td>0.42626</td>\n      <td>0.230234</td>\n      <td>0.008976</td>\n    </tr>\n    <tr>\n      <th>9</th>\n      <td>Iris</td>\n      <td>[0.2, 4.0]</td>\n      <td>0.505427</td>\n      <td>0.42626</td>\n      <td>0.230234</td>\n      <td>0.006981</td>\n    </tr>\n    <tr>\n      <th>10</th>\n      <td>Iris</td>\n      <td>[0.2, 5.0]</td>\n      <td>0.505427</td>\n      <td>0.42626</td>\n      <td>0.230234</td>\n      <td>0.009974</td>\n    </tr>\n    <tr>\n      <th>11</th>\n      <td>Iris</td>\n      <td>[0.2, 6.0]</td>\n      <td>0.505427</td>\n      <td>0.42626</td>\n      <td>0.230234</td>\n      <td>0.007978</td>\n    </tr>\n    <tr>\n      <th>12</th>\n      <td>Iris</td>\n      <td>[0.2, 7.0]</td>\n      <td>0.505427</td>\n      <td>0.42626</td>\n      <td>0.230234</td>\n      <td>0.016955</td>\n    </tr>\n    <tr>\n      <th>13</th>\n      <td>Iris</td>\n      <td>[0.2, 8.0]</td>\n      <td>0.505427</td>\n      <td>0.42626</td>\n      <td>0.230234</td>\n      <td>0.009974</td>\n    </tr>\n    <tr>\n      <th>14</th>\n      <td>Iris</td>\n      <td>[0.3, 2.0]</td>\n      <td>0.505427</td>\n      <td>0.42626</td>\n      <td>0.230234</td>\n      <td>0.006980</td>\n    </tr>\n    <tr>\n      <th>15</th>\n      <td>Iris</td>\n      <td>[0.3, 3.0]</td>\n      <td>0.505427</td>\n      <td>0.42626</td>\n      <td>0.230234</td>\n      <td>0.014959</td>\n    </tr>\n    <tr>\n      <th>16</th>\n      <td>Iris</td>\n      <td>[0.3, 4.0]</td>\n      <td>0.505427</td>\n      <td>0.42626</td>\n      <td>0.230234</td>\n      <td>0.006982</td>\n    </tr>\n    <tr>\n      <th>17</th>\n      <td>Iris</td>\n      <td>[0.3, 5.0]</td>\n      <td>0.505427</td>\n      <td>0.42626</td>\n      <td>0.230234</td>\n      <td>0.007976</td>\n    </tr>\n    <tr>\n      <th>18</th>\n      <td>Iris</td>\n      <td>[0.3, 6.0]</td>\n      <td>0.505427</td>\n      <td>0.42626</td>\n      <td>0.230234</td>\n      <td>0.010970</td>\n    </tr>\n    <tr>\n      <th>19</th>\n      <td>Iris</td>\n      <td>[0.3, 7.0]</td>\n      <td>0.505427</td>\n      <td>0.42626</td>\n      <td>0.230234</td>\n      <td>0.010972</td>\n    </tr>\n    <tr>\n      <th>20</th>\n      <td>Iris</td>\n      <td>[0.3, 8.0]</td>\n      <td>0.505427</td>\n      <td>0.42626</td>\n      <td>0.230234</td>\n      <td>0.008976</td>\n    </tr>\n    <tr>\n      <th>21</th>\n      <td>Iris</td>\n      <td>[0.4, 2.0]</td>\n      <td>0.505427</td>\n      <td>0.42626</td>\n      <td>0.230234</td>\n      <td>0.009972</td>\n    </tr>\n    <tr>\n      <th>22</th>\n      <td>Iris</td>\n      <td>[0.4, 3.0]</td>\n      <td>0.505427</td>\n      <td>0.42626</td>\n      <td>0.230234</td>\n      <td>0.006979</td>\n    </tr>\n    <tr>\n      <th>23</th>\n      <td>Iris</td>\n      <td>[0.4, 4.0]</td>\n      <td>0.505427</td>\n      <td>0.42626</td>\n      <td>0.230234</td>\n      <td>0.006981</td>\n    </tr>\n    <tr>\n      <th>24</th>\n      <td>Iris</td>\n      <td>[0.4, 5.0]</td>\n      <td>0.505427</td>\n      <td>0.42626</td>\n      <td>0.230234</td>\n      <td>0.007976</td>\n    </tr>\n    <tr>\n      <th>25</th>\n      <td>Iris</td>\n      <td>[0.4, 6.0]</td>\n      <td>0.505427</td>\n      <td>0.42626</td>\n      <td>0.230234</td>\n      <td>0.024931</td>\n    </tr>\n    <tr>\n      <th>26</th>\n      <td>Iris</td>\n      <td>[0.4, 7.0]</td>\n      <td>0.505427</td>\n      <td>0.42626</td>\n      <td>0.230234</td>\n      <td>0.019947</td>\n    </tr>\n    <tr>\n      <th>27</th>\n      <td>Iris</td>\n      <td>[0.4, 8.0]</td>\n      <td>0.505427</td>\n      <td>0.42626</td>\n      <td>0.230234</td>\n      <td>0.006982</td>\n    </tr>\n    <tr>\n      <th>28</th>\n      <td>Iris</td>\n      <td>[0.5, 2.0]</td>\n      <td>0.505427</td>\n      <td>0.42626</td>\n      <td>0.230234</td>\n      <td>0.014960</td>\n    </tr>\n    <tr>\n      <th>29</th>\n      <td>Iris</td>\n      <td>[0.5, 3.0]</td>\n      <td>0.505427</td>\n      <td>0.42626</td>\n      <td>0.230234</td>\n      <td>0.021941</td>\n    </tr>\n    <tr>\n      <th>30</th>\n      <td>Iris</td>\n      <td>[0.5, 4.0]</td>\n      <td>0.505427</td>\n      <td>0.42626</td>\n      <td>0.230234</td>\n      <td>0.008976</td>\n    </tr>\n    <tr>\n      <th>31</th>\n      <td>Iris</td>\n      <td>[0.5, 5.0]</td>\n      <td>0.505427</td>\n      <td>0.42626</td>\n      <td>0.230234</td>\n      <td>0.007978</td>\n    </tr>\n    <tr>\n      <th>32</th>\n      <td>Iris</td>\n      <td>[0.5, 6.0]</td>\n      <td>0.505427</td>\n      <td>0.42626</td>\n      <td>0.230234</td>\n      <td>0.006982</td>\n    </tr>\n    <tr>\n      <th>33</th>\n      <td>Iris</td>\n      <td>[0.5, 7.0]</td>\n      <td>0.505427</td>\n      <td>0.42626</td>\n      <td>0.230234</td>\n      <td>0.006980</td>\n    </tr>\n    <tr>\n      <th>34</th>\n      <td>Iris</td>\n      <td>[0.5, 8.0]</td>\n      <td>0.505427</td>\n      <td>0.42626</td>\n      <td>0.230234</td>\n      <td>0.006980</td>\n    </tr>\n  </tbody>\n</table>\n</div>"
     },
     "execution_count": 26,
     "metadata": {},
     "output_type": "execute_result"
    }
   ],
   "source": [
    "final_dbscan_df"
   ]
  },
  {
   "cell_type": "code",
   "execution_count": 27,
   "metadata": {},
   "outputs": [],
   "source": [
    "# n_clusters = len(set(y_dbscan)) - (1 if -1 in y_dbscan else 0)\n",
    "# n_noise = list(y_dbscan).count(-1)\n",
    "\n",
    "# print('Estimated number of clusters: %d' % n_clusters)\n",
    "# print('Estimated number of noise points: %d' % n_noise)"
   ]
  },
  {
   "cell_type": "markdown",
   "metadata": {},
   "source": [
    "Unlike k-means, DBSCAN will figure out the number of clusters. \n",
    "DBSCAN works by determining whether the minimum number of points are close enough to \n",
    "one another to be considered part of a single cluster. DBSCAN is very sensitive to scale since \n",
    "epsilon is a fixed value for the maximum distance between two points."
   ]
  },
  {
   "cell_type": "markdown",
   "metadata": {},
   "source": [
    "# Optics Clustering"
   ]
  },
  {
   "cell_type": "code",
   "execution_count": 27,
   "metadata": {},
   "outputs": [],
   "source": []
  },
  {
   "cell_type": "markdown",
   "metadata": {},
   "source": [
    "# Gaussian mixtures Clustering"
   ]
  },
  {
   "cell_type": "code",
   "execution_count": 27,
   "metadata": {},
   "outputs": [],
   "source": []
  },
  {
   "cell_type": "markdown",
   "metadata": {},
   "source": [
    "# Affinity propagation"
   ]
  },
  {
   "cell_type": "code",
   "execution_count": 28,
   "metadata": {},
   "outputs": [],
   "source": [
    "# from sklearn.cluster import AffinityPropagation\n",
    "\n",
    "# afp = AffinityPropagation(damping=0.9, max_iter=200, convergence_iter=15, copy=True, preference=-5, affinity='euclidean', verbose=False, random_state=None)\n",
    "# y_afp=afp.fit_predict(x_scaled)\n",
    "# y_afp"
   ]
  },
  {
   "cell_type": "markdown",
   "metadata": {},
   "source": [
    "# Mean-shift "
   ]
  },
  {
   "cell_type": "code",
   "execution_count": 28,
   "metadata": {},
   "outputs": [],
   "source": []
  },
  {
   "cell_type": "markdown",
   "metadata": {},
   "source": [
    "# Spectral Clustering"
   ]
  },
  {
   "cell_type": "code",
   "execution_count": 28,
   "metadata": {},
   "outputs": [],
   "source": []
  },
  {
   "cell_type": "markdown",
   "metadata": {},
   "source": [
    "# Ward hierarchical"
   ]
  },
  {
   "cell_type": "code",
   "execution_count": 29,
   "metadata": {},
   "outputs": [
    {
     "data": {
      "text/plain": "0.8666666666666667"
     },
     "execution_count": 29,
     "metadata": {},
     "output_type": "execute_result"
    }
   ],
   "source": [
    "from sklearn import metrics\n",
    "labels_true = [0, 0, 0, 1, 1, 1]\n",
    "labels_pred = [0, 0, 0, 1, 1, 2]\n",
    "metrics.rand_score(labels_true, labels_pred)"
   ]
  },
  {
   "cell_type": "code",
   "execution_count": 29,
   "metadata": {},
   "outputs": [],
   "source": []
  },
  {
   "cell_type": "code",
   "execution_count": 29,
   "metadata": {},
   "outputs": [],
   "source": []
  }
 ],
 "metadata": {
  "kernelspec": {
   "display_name": "Python 3 (ipykernel)",
   "language": "python",
   "name": "python3"
  },
  "language_info": {
   "codemirror_mode": {
    "name": "ipython",
    "version": 3
   },
   "file_extension": ".py",
   "mimetype": "text/x-python",
   "name": "python",
   "nbconvert_exporter": "python",
   "pygments_lexer": "ipython3",
   "version": "3.9.6"
  }
 },
 "nbformat": 4,
 "nbformat_minor": 1
}